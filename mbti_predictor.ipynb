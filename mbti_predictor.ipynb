{
    "cells": [
        {
            "cell_type": "code",
            "execution_count": null,
            "metadata": {
                "id": "nmBY2DUKxsuj"
            },
            "outputs": [],
            "source": [
                "USING_COLAB = True\n",
                "if USING_COLAB:\n",
                "  !pip install colab-env\n",
                "  \n",
                "  # Mounting Drive\n",
                "  import colab_env\n",
                "  from google.colab import drive\n",
                "  MOUNT_DIR = '/content/drive/'\n",
                "  drive.mount(MOUNT_DIR, force_remount=True)\n",
                "\n",
                "  # Spark and SparkNLP installation and configuration \n",
                "  !wget http://setup.johnsnowlabs.com/colab.sh -O - | bash\n",
                "\n",
                "  # Extra libraries installation\n",
                "  !pip install pandas\n",
                "  !pip install matplotlib\n",
                "  !pip install git+https://github.com/tweepy/tweepy.git\n",
                "\n",
                "  # Dataset path\n",
                "  DATASETS_PATH = '/datasets/'\n",
                "\n",
                "  # Pretrained models path\n",
                "  PRETRAINED_MODELS_PATH = f'{MOUNT_DIR}MyDrive/pretrainedModels/'\n",
                "\n",
                "  # Downloading datasets\n",
                "  !wget -P $DATASETS_PATH https://github.com/edu-rinaldi/MBTI-Predictor/raw/main/datasets/mbti_1.csv\n",
                "\n",
                "  !wget -P $DATASETS_PATH https://github.com/edu-rinaldi/MBTI-Predictor/raw/main/datasets/reddit_mbti.tar.gz\n",
                "  !tar xvzf $DATASETS_PATH\"reddit_mbti.tar.gz\" -C $DATASETS_PATH\n",
                "  !rm $DATASETS_PATH\"reddit_mbti.tar.gz\" -r\n",
                "\n",
                "  !wget -P $DATASETS_PATH https://github.com/edu-rinaldi/MBTI-Predictor/raw/main/datasets/mbti_and_reddit.parquet.tar.gz\n",
                "  !tar xvzf $DATASETS_PATH\"mbti_and_reddit.parquet.tar.gz\" -C $DATASETS_PATH\n",
                "  !rm $DATASETS_PATH\"mbti_and_reddit.parquet.tar.gz\" -r\n",
                "\n",
                "  # Downloading pretrained models\n",
                "  !wget -P $PRETRAINED_MODELS_PATH https://github.com/edu-rinaldi/MBTI-Predictor/raw/main/pretrainedModels/pretrainedModels.tar.gz\n",
                "  !tar xvzf $PRETRAINED_MODELS_PATH\"pretrainedModels.tar.gz\" -C $PRETRAINED_MODELS_PATH\n",
                "  !rm $PRETRAINED_MODELS_PATH\"pretrainedModels.tar.gz\" -r\n",
                "\n",
                "else:\n",
                "  # install sparknlp and tweepy using PyPi (from databricks' UI)\n",
                "  # Add com.johnsnowlabs.nlp:spark-nlp_2.12:3.1.0 to Maven\n",
                "\n",
                "  # This procedure is very slow, set it to True only if needed\n",
                "  NEED_TO_DOWNLOAD_ON_DBFS = False\n",
                "  \n",
                "  if NEED_TO_DOWNLOAD_ON_DBFS:\n",
                "    dbutils.fs.mkdirs(DATASETS_PATH)\n",
                "    dbutils.fs.mkdirs(PRETRAINED_MODELS_PATH)\n",
                "\n",
                "    # Downloading datasets\n",
                "    !wget -P /tmp https://github.com/edu-rinaldi/MBTI-Predictor/raw/main/datasets/mbti_1.csv\n",
                "    dbutils.fs.mv(\"file:/tmp/mbti_1.csv\", DATASETS_PATH)\n",
                "\n",
                "    !wget -P /tmp https://github.com/edu-rinaldi/MBTI-Predictor/raw/main/datasets/reddit_mbti.tar.gz;\n",
                "    !tar xvzf /tmp/reddit_mbti.tar.gz -C /tmp/\n",
                "    dbutils.fs.cp(\"file:/tmp/reddit_mbti.parquet\", DATASETS_PATH+\"reddit_mbti.parquet\", recurse=True)\n",
                "    !rm /tmp/reddit_mbti.* -r\n",
                "\n",
                "    !wget -P /tmp https://github.com/edu-rinaldi/MBTI-Predictor/raw/main/datasets/mbti_and_reddit.parquet.tar.gz\n",
                "    !tar xvzf /tmp/mbti_and_reddit.parquet.tar.gz -C /tmp/\n",
                "    dbutils.fs.cp(\"file:/tmp/mbti_and_reddit.parquet\", DATASETS_PATH+\"mbti_and_reddit.parquet\", recurse=True)\n",
                "    !rm /tmp/mbti_and_reddit.* -r\n",
                "\n",
                "    # Downloading pretrained models\n",
                "    !wget -P /tmp https://github.com/edu-rinaldi/MBTI-Predictor/raw/main/pretrainedModels/pretrainedModels.tar.gz\n",
                "    !rm /tmp/tmp_pretrained -r\n",
                "    !mkdir /tmp/tmp_pretrained/\n",
                "    !tar xvzf /tmp/pretrainedModels.tar.gz -C /tmp/tmp_pretrained/\n",
                "    dbutils.fs.cp(\"file:/tmp/tmp_pretrained\", PRETRAINED_MODELS_PATH, recurse=True)\n",
                "    !rm /tmp/tmp_pretrained -r\n"
            ]
        },
        {
            "cell_type": "code",
            "execution_count": 2,
            "metadata": {
                "colab": {
                    "base_uri": "https://localhost:8080/",
                    "height": 219
                },
                "id": "Q4lnSQuiyEw1",
                "outputId": "555db8d7-6d52-4298-81dc-c6852c20e1cb"
            },
            "outputs": [
                {
                    "data": {
                        "text/html": [
                            "\n",
                            "            <div>\n",
                            "                <p><b>SparkSession - in-memory</b></p>\n",
                            "                \n",
                            "        <div>\n",
                            "            <p><b>SparkContext</b></p>\n",
                            "\n",
                            "            <p><a href=\"http://17d59f870638:4040\">Spark UI</a></p>\n",
                            "\n",
                            "            <dl>\n",
                            "              <dt>Version</dt>\n",
                            "                <dd><code>v3.2.3</code></dd>\n",
                            "              <dt>Master</dt>\n",
                            "                <dd><code>local[*]</code></dd>\n",
                            "              <dt>AppName</dt>\n",
                            "                <dd><code>Spark NLP</code></dd>\n",
                            "            </dl>\n",
                            "        </div>\n",
                            "        \n",
                            "            </div>\n",
                            "        "
                        ],
                        "text/plain": [
                            "<pyspark.sql.session.SparkSession at 0x7f06c3410970>"
                        ]
                    },
                    "execution_count": 2,
                    "metadata": {},
                    "output_type": "execute_result"
                }
            ],
            "source": [
                "import pandas as pd\n",
                "import numpy as np\n",
                "\n",
                "# Matplotlib, plt and cm modules\n",
                "import matplotlib.pyplot as plt\n",
                "import matplotlib.cm as cm\n",
                "\n",
                "# Seaborn for plotting\n",
                "import seaborn as sns\n",
                "\n",
                "# Pritty print\n",
                "from pprint import pprint\n",
                "\n",
                "# Twitter API\n",
                "import tweepy\n",
                "\n",
                "# for reading .env vars\n",
                "import os\n",
                "\n",
                "# PySpark\n",
                "import pyspark\n",
                "from pyspark.sql import *\n",
                "from pyspark.sql.types import *\n",
                "from pyspark.sql.functions import *\n",
                "from pyspark import SparkContext, SparkConf\n",
                "\n",
                "# SparkNLP, use for text cleaning\n",
                "import sparknlp\n",
                "from sparknlp.base import *\n",
                "from sparknlp.annotator import *              \n",
                "from sparknlp.pretrained import *\n",
                "\n",
                "spark = sparknlp.start()\n",
                "spark"
            ]
        },
        {
            "cell_type": "code",
            "execution_count": 3,
            "metadata": {
                "colab": {
                    "base_uri": "https://localhost:8080/"
                },
                "id": "z_0RXVHdyFEN",
                "outputId": "9512212b-dea9-4e2d-8b5f-c595d84910aa"
            },
            "outputs": [
                {
                    "name": "stdout",
                    "output_type": "stream",
                    "text": [
                        "The dataset is composed by 2 columns and 8675 entries/records\n",
                        "+----+--------------------+\n",
                        "|type|               posts|\n",
                        "+----+--------------------+\n",
                        "|INFJ|'http://www.youtu...|\n",
                        "|ENTP|'I'm finding the ...|\n",
                        "|INTP|'Good one  _____ ...|\n",
                        "|INTJ|'Dear INTP,   I e...|\n",
                        "|ENTJ|'You're fired.|||...|\n",
                        "|INTJ|'18/37 @.@|||Scie...|\n",
                        "|INFJ|'No, I can't draw...|\n",
                        "|INTJ|'I tend to build ...|\n",
                        "|INFJ|I'm not sure, tha...|\n",
                        "|INTP|'https://www.yout...|\n",
                        "|INFJ|'One time my pare...|\n",
                        "|ENFJ|'https://www.yout...|\n",
                        "|INFJ|'Joe santagato - ...|\n",
                        "|INTJ|'Fair enough, if ...|\n",
                        "|INTP|'Basically this.....|\n",
                        "|INTP|'Your comment scr...|\n",
                        "|INFJ|'some of these bo...|\n",
                        "|INFP|'I think we do ag...|\n",
                        "|INFJ|'I fully believe ...|\n",
                        "|INFP|'That's normal, i...|\n",
                        "+----+--------------------+\n",
                        "only showing top 20 rows\n",
                        "\n"
                    ]
                }
            ],
            "source": [
                "# Path to dataset\n",
                "MBTI_DATASET_PATH = f\"{DATASETS_PATH}mbti_1.csv\"\n",
                "\n",
                "mbti_df = spark.read.load(MBTI_DATASET_PATH, format=\"csv\", sep=\",\", inferSchema=\"true\", header=\"true\")\n",
                "print(f\"The dataset is composed by {len(mbti_df.columns)} columns and {mbti_df.count()} entries/records\")\n",
                "mbti_df.show()"
            ]
        },
        {
            "cell_type": "code",
            "execution_count": 4,
            "metadata": {
                "colab": {
                    "base_uri": "https://localhost:8080/"
                },
                "id": "6ujq74LPyvx6",
                "outputId": "956dece5-2e62-49c9-a4ed-c5d3ede8264c"
            },
            "outputs": [
                {
                    "name": "stdout",
                    "output_type": "stream",
                    "text": [
                        "+----+-----+\n",
                        "|type|posts|\n",
                        "+----+-----+\n",
                        "+----+-----+\n",
                        "\n"
                    ]
                }
            ],
            "source": [
                "mbti_df.where((col('posts').isNull()) | (col('type').isNull()) | (col('posts') == '') | (col('type') == '')).show()"
            ]
        },
        {
            "cell_type": "code",
            "execution_count": 5,
            "metadata": {
                "colab": {
                    "base_uri": "https://localhost:8080/"
                },
                "id": "0y3OogtLyv1c",
                "outputId": "045ca954-ae0e-4d1b-dd1b-ae2ea65f1fdb"
            },
            "outputs": [
                {
                    "name": "stdout",
                    "output_type": "stream",
                    "text": [
                        "+----+--------------------+\n",
                        "|type|                post|\n",
                        "+----+--------------------+\n",
                        "|infj|'http://www.youtu...|\n",
                        "|entp|'I'm finding the ...|\n",
                        "|intp|'Good one  _____ ...|\n",
                        "|intj|'Dear INTP,   I e...|\n",
                        "|entj|'You're fired.|||...|\n",
                        "|intj|'18/37 @.@|||Scie...|\n",
                        "|infj|'No, I can't draw...|\n",
                        "|intj|'I tend to build ...|\n",
                        "|infj|I'm not sure, tha...|\n",
                        "|intp|'https://www.yout...|\n",
                        "|infj|'One time my pare...|\n",
                        "|enfj|'https://www.yout...|\n",
                        "|infj|'Joe santagato - ...|\n",
                        "|intj|'Fair enough, if ...|\n",
                        "|intp|'Basically this.....|\n",
                        "|intp|'Your comment scr...|\n",
                        "|infj|'some of these bo...|\n",
                        "|infp|'I think we do ag...|\n",
                        "|infj|'I fully believe ...|\n",
                        "|infp|'That's normal, i...|\n",
                        "+----+--------------------+\n",
                        "only showing top 20 rows\n",
                        "\n"
                    ]
                }
            ],
            "source": [
                "mbti_renamed_df = mbti_df.withColumnRenamed('posts', 'post').withColumn('type', lower(\"type\"))\n",
                "mbti_renamed_df.show()"
            ]
        },
        {
            "cell_type": "markdown",
            "metadata": {
                "id": "xEpYxINTy6df"
            },
            "source": [
                "### Type distribution\n",
                "Check MBTI types distribution over dataset examples."
            ]
        },
        {
            "cell_type": "code",
            "execution_count": 7,
            "metadata": {
                "colab": {
                    "base_uri": "https://localhost:8080/",
                    "height": 420
                },
                "id": "H8Qm3yJuyv4h",
                "outputId": "f8651202-a8eb-4d4c-aaca-8e0911947e2a"
            },
            "outputs": [
                {
                    "data": {
                        "text/plain": [
                            "<Axes: xlabel='type'>"
                        ]
                    },
                    "execution_count": 7,
                    "metadata": {},
                    "output_type": "execute_result"
                },
                {
                    "data": {
                        "image/png": "[encoded data removed]",
                        "text/plain": [
                            "<Figure size 1500x500 with 1 Axes>"
                        ]
                    },
                    "metadata": {},
                    "output_type": "display_data"
                }
            ],
            "source": [
                "def count_class_instances(df, labelCol, toPandas=True):\n",
                "  \"\"\"\n",
                "  Given a dataframe and the column containing class labels, for each class it counts\n",
                "  how many example are labeled with that class.\n",
                "\n",
                "  It returns a new DataFrame with two columns:\n",
                "    1. labelCol\n",
                "    2. count: num. of examples with that label\n",
                "  \n",
                "  Returned DataFrame is either:\n",
                "    - Spark DataFrame (if !toPandas)\n",
                "    - Pandas DataFrame (if toPandas)\n",
                "\n",
                "  Parameters\n",
                "  ----------\n",
                "  df : pyspark.sql.DataFrame\n",
                "      Input DataFrame \n",
                "  labelCol : str\n",
                "      Column where are listed class labels\n",
                "  toPandas : bool, optional\n",
                "      If True, function will return a Pandas DataFrame, otherwise Spark DF. (Default value is True)\n",
                "  \"\"\"\n",
                "  counted_df = df.select(labelCol).groupBy(labelCol).count().sort(labelCol)\n",
                "  return counted_df.toPandas() if toPandas else counted_df\n",
                "\n",
                "  # Count \"\"frequency\"\" of each class\n",
                "counted_mbti_types_pdf = count_class_instances(mbti_renamed_df, 'type')\n",
                "# Plot their distribution\n",
                "counted_mbti_types_pdf.plot.bar(x='type', y='count', figsize=(15,5), legend=False, color=plt.cm.Paired(np.arange(16)))"
            ]
        },
        {
            "cell_type": "markdown",
            "metadata": {
                "id": "8EhPBWhxzZ-C"
            },
            "source": [
                "### Obserservations\n",
                "*  **Unbalanced dataset** two most unbalanced type indicators are: **\"I/E\"** and **\"N/S\"**\n",
                "\n",
                "* Predominant types **INxx**, which correspond to introvert personalities; this could mean that on internet (especially on forums and/or social networks) the most predominant personalities are the introvert ones, so in real world application the model could deal more frequently with **INxx** types posts.\n",
                "\n",
                "* Less frequent types : **Sensing** (**xSxx**) personalities are the less probably is due to the fact that *Sensors* prefer learning information that they can tangibly apply to their lives (**briefly:** they don't like and trust too much internet).\n",
                "\n",
                "* Too few examples : Several classes with too few examples for applying some kind of training on them, [ \"esfj\" class which has **less than 250 examples** ].  "
            ]
        },
        {
            "cell_type": "markdown",
            "metadata": {
                "id": "6YNFBxOL0_NL"
            },
            "source": [
                "### Comparing dataset distribution\n",
                "##### Assuptions:\n",
                "- dataset distribution reflects \"on internet distribution\"\n",
                "- Comparizon can be made with real world data (out of the internet) as it provides informations about application end users.\n",
                "\n",
                "\n",
                "Real world distribution provided from [here](https://personalitymax.com/personality-types/population-gender/)"
            ]
        },
        {
            "cell_type": "code",
            "execution_count": 8,
            "metadata": {
                "colab": {
                    "base_uri": "https://localhost:8080/",
                    "height": 546
                },
                "id": "aKfP8d1QywXp",
                "outputId": "97484be2-178f-41ef-90ad-bcf644b66834"
            },
            "outputs": [
                {
                    "data": {
                        "text/plain": [
                            "<Axes: xlabel='type'>"
                        ]
                    },
                    "execution_count": 8,
                    "metadata": {},
                    "output_type": "execute_result"
                },
                {
                    "data": {
                        "image/png": "[encoded data removed]",
                        "text/plain": [
                            "<Figure size 1500x700 with 1 Axes>"
                        ]
                    },
                    "metadata": {},
                    "output_type": "display_data"
                }
            ],
            "source": [
                "# normalize count in a range [0, 1]\n",
                "counted_mbti_types_pdf['count_normalized'] = counted_mbti_types_pdf['count']/counted_mbti_types_pdf['count'].sum()\n",
                "\n",
                "# Real world distribution according to https://personalitymax.com/personality-types/population-gender/\n",
                "real_world_pdf = pd.DataFrame({\n",
                "    'type' : ['enfj', 'enfp', 'entj', 'entp', 'esfj', 'esfp', 'estj', 'estp', 'infj', 'infp', 'intj', 'intp', 'isfj', 'isfp', 'istj', 'istp'],\n",
                "    'count': [0.025, 0.081, 0.018, 0.032, 0.12, 0.085, 0.087, 0.043, 0.015, 0.044, 0.021, 0.033, 0.138, 0.088, 0.116, 0.054]\n",
                "})\n",
                "real_world_pdf.head()\n",
                "\n",
                "# temp. DF used for plotting\n",
                "pd.DataFrame({\n",
                "    'type': real_world_pdf['type'],\n",
                "    'count_real_world': real_world_pdf['count'],\n",
                "    'count_mbti_dataset': counted_mbti_types_pdf['count_normalized']\n",
                "}).plot.bar(x='type', figsize=(15, 7), color=plt.cm.Paired(np.arange(len(counted_mbti_types_pdf))))"
            ]
        },
        {
            "cell_type": "markdown",
            "metadata": {
                "id": "TVKylSG208Dq"
            },
            "source": [
                "#### Observation\n",
                "**\"real world\"** and **\"internet world\"** distributions are **very different**. **Extroverts** are **more frequent** outside internet. The same goes for **Sensing** personalities (**xSxx**)."
            ]
        },
        {
            "cell_type": "code",
            "execution_count": 16,
            "metadata": {
                "colab": {
                    "base_uri": "https://localhost:8080/"
                },
                "id": "rvrKuRfHyFIS",
                "outputId": "9578b725-19fb-4a2e-d6c4-18e93bf5be0a"
            },
            "outputs": [
                {
                    "name": "stdout",
                    "output_type": "stream",
                    "text": [
                        "+--------------------+---+---+---+---+\n",
                        "|                post| ie| ns| tf| pj|\n",
                        "+--------------------+---+---+---+---+\n",
                        "|'http://www.youtu...|  i|  n|  f|  j|\n",
                        "|'I'm finding the ...|  e|  n|  t|  p|\n",
                        "|'Good one  _____ ...|  i|  n|  t|  p|\n",
                        "|'Dear INTP,   I e...|  i|  n|  t|  j|\n",
                        "|'You're fired.|||...|  e|  n|  t|  j|\n",
                        "|'18/37 @.@|||Scie...|  i|  n|  t|  j|\n",
                        "|'No, I can't draw...|  i|  n|  f|  j|\n",
                        "|'I tend to build ...|  i|  n|  t|  j|\n",
                        "|I'm not sure, tha...|  i|  n|  f|  j|\n",
                        "|'https://www.yout...|  i|  n|  t|  p|\n",
                        "|'One time my pare...|  i|  n|  f|  j|\n",
                        "|'https://www.yout...|  e|  n|  f|  j|\n",
                        "|'Joe santagato - ...|  i|  n|  f|  j|\n",
                        "|'Fair enough, if ...|  i|  n|  t|  j|\n",
                        "|'Basically this.....|  i|  n|  t|  p|\n",
                        "|'Your comment scr...|  i|  n|  t|  p|\n",
                        "|'some of these bo...|  i|  n|  f|  j|\n",
                        "|'I think we do ag...|  i|  n|  f|  p|\n",
                        "|'I fully believe ...|  i|  n|  f|  j|\n",
                        "|'That's normal, i...|  i|  n|  f|  p|\n",
                        "+--------------------+---+---+---+---+\n",
                        "only showing top 20 rows\n",
                        "\n"
                    ]
                }
            ],
            "source": [
                "def split_type(df, typeCol='type', withDrop=False):\n",
                "  \"\"\"\n",
                "  Given a dataframe and the column containing the type of each record it splits the column \n",
                "  in 4 different columns (one for each type indicator):\n",
                "\n",
                "    1. ie: Introversion vs Extroversion\n",
                "    2. ns: Intuition vs Sensing\n",
                "    3. tf: Thinking vs Feeling\n",
                "    4. pj: Judging vs Perceiving\n",
                "  \n",
                "  It returns a pair containing:\n",
                "    1. Altered dataframe\n",
                "    2. Indicators columns list\n",
                "\n",
                "  Parameters\n",
                "  ----------\n",
                "  df : pyspark.sql.DataFrame\n",
                "      Input DataFrame which contains posts\n",
                "  typeCol : str, optional\n",
                "      Column where are listed post types. (Default value is 'type')\n",
                "  withDrop : bool, optional\n",
                "      If True drop typeCol. (Default value is False)\n",
                "  \"\"\"\n",
                "  indicators = ['ie', 'ns', 'tf', 'pj']\n",
                "  splitted_type_df = df\n",
                "  # for each indicator pick the character corresponding to the current indicator and add it to a new column\n",
                "  for i, ind in enumerate(indicators):\n",
                "    splitted_type_df = splitted_type_df.withColumn(ind, substring(typeCol, i+1, 1))\n",
                "  \n",
                "  # drop typeCol column\n",
                "  if withDrop:\n",
                "    splitted_type_df = splitted_type_df.drop(typeCol) \n",
                "  \n",
                "  return splitted_type_df, indicators\n",
                "\n",
                "  # Split type in 4 indicators\n",
                "mbti_type_splitted_df, indicators = split_type(mbti_renamed_df, withDrop=True)\n",
                "\n",
                "mbti_type_splitted_df.show()"
            ]
        },
        {
            "cell_type": "markdown",
            "metadata": {
                "id": "bQAPtZM23ofd"
            },
            "source": [
                "### Single type indicator analysis\n",
                "Let's see now for each type indicator its distribution"
            ]
        },
        {
            "cell_type": "code",
            "execution_count": 18,
            "metadata": {
                "colab": {
                    "base_uri": "https://localhost:8080/",
                    "height": 855
                },
                "id": "v4Qvs9-iyFMF",
                "outputId": "d5af1f0b-8f01-4cdb-ee1e-9843294115cb"
            },
            "outputs": [
                {
                    "data": {
                        "image/png": "[encoded data removed]",
                        "text/plain": [
                            "<Figure size 1000x1000 with 4 Axes>"
                        ]
                    },
                    "metadata": {},
                    "output_type": "display_data"
                }
            ],
            "source": [
                "def plot_indicators_distribution(df):\n",
                "  \"\"\"\n",
                "  Given ad DataFrame as input, it plots each indicator distribution\n",
                "\n",
                "  Parameters\n",
                "  ----------\n",
                "  df : pyspark.sql.DataFrame\n",
                "      Input DataFrame\n",
                "  \"\"\"\n",
                "  fig, ax = plt.subplots(2, 2, figsize=(10, 10))\n",
                "  for ind, subplot in zip(indicators, ax.flatten()):\n",
                "    sns.histplot(df.toPandas(), x=ind, ax=subplot)\n",
                "    \n",
                "plot_indicators_distribution(mbti_type_splitted_df)"
            ]
        },
        {
            "cell_type": "markdown",
            "metadata": {
                "id": "GgVtlhgg4lNj"
            },
            "source": [
                "# Reddit dataset\n",
                "\n",
                "It's a **PARQUET** dataset containing on each row:\n",
                "* **redditor\\_id**: posts' author id\n",
                "* **post**: Last things the author posted; each entry is separated by \"|||\" (w.r.t. Mbti dataset, posts number on each entry ranges from 50 to 100)\n",
                "* **text\\_type**: identify if it's a comment, title or a post\n",
                "* **type**: as the MBTI dataset\n",
                "* **num\\_post**: number of post in the row\n",
                "\n",
                "This dataset contains 5754 records"
            ]
        },
        {
            "cell_type": "code",
            "execution_count": 21,
            "metadata": {
                "colab": {
                    "base_uri": "https://localhost:8080/"
                },
                "id": "RuIScGDg4i7w",
                "outputId": "3bc1e183-e07c-42a8-d5d6-92156cf794b8"
            },
            "outputs": [
                {
                    "name": "stdout",
                    "output_type": "stream",
                    "text": [
                        "The dataset is composed by 5 columns and 5754 records\n",
                        "+-----------+----+---------+--------+--------------------+\n",
                        "|redditor_id|type|text_type|num_post|                post|\n",
                        "+-----------+----+---------+--------+--------------------+\n",
                        "|     101tuq|intj|  comment|     100|Arin can fred |||...|\n",
                        "|     114fsa|istp|  comment|     100|  ||| \"Are you ki...|\n",
                        "|     114fsa|istp|    title|      67|Spin that wheel |...|\n",
                        "|     114mu2|enfp|  comment|     100|Die nerven sich m...|\n",
                        "|     116d0h|enfj|  comment|     100|I admire your abi...|\n",
                        "|   11dxh05w|infp|  comment|     100|👏 but try not to...|\n",
                        "|     11ghzk|isfj|  comment|     100|1: At least 4 stu...|\n",
                        "|     11usaf|istp|  comment|     100|She’s clearly not...|\n",
                        "|     11wn2y|infp|  comment|     100|Yeah, I don’t rea...|\n",
                        "|     12bccu|entp|    title|      50|GAME ENGINE DEVEL...|\n",
                        "|     12j670|entp|  comment|     100|and pink diamond ...|\n",
                        "|     12ryws|entp|  comment|     100|\"Just a pam looki...|\n",
                        "|     12u7ez|esfp|  comment|     100|Not gonna lie, I ...|\n",
                        "|     137353|esfp|  comment|     100|What the fuck is ...|\n",
                        "|     137vj7|entj|  comment|     100|Please supply mor...|\n",
                        "|     13cdb4|entj|  comment|     100|Why can't you guy...|\n",
                        "|     13wtt6|enfp|  comment|     100|Radio killed the ...|\n",
                        "|     1487jv|intp|    title|      68|I'm actually Turb...|\n",
                        "|     156bjf|infj|    title|      99|Ecuador says hack...|\n",
                        "|     15jjfq|intp|  comment|     100|This applies to V...|\n",
                        "+-----------+----+---------+--------+--------------------+\n",
                        "only showing top 20 rows\n",
                        "\n"
                    ]
                }
            ],
            "source": [
                "# Reddit dataset path\n",
                "REDDIT_DATASET_PATH = f\"{DATASETS_PATH}reddit_mbti.parquet\"\n",
                "\n",
                "reddit_df = spark.read.load(REDDIT_DATASET_PATH)\n",
                "print(f\"The dataset is composed by {len(reddit_df.columns)} columns and {reddit_df.count()} records\")\n",
                "reddit_df.show()"
            ]
        },
        {
            "cell_type": "code",
            "execution_count": 22,
            "metadata": {
                "colab": {
                    "base_uri": "https://localhost:8080/",
                    "height": 1000
                },
                "id": "haC7IKh14jCw",
                "outputId": "f94f1704-927d-440a-eb4e-c3672ab88529"
            },
            "outputs": [
                {
                    "name": "stdout",
                    "output_type": "stream",
                    "text": [
                        "+-----------+---------+--------+--------------------+---+---+---+---+\n",
                        "|redditor_id|text_type|num_post|                post| ie| ns| tf| pj|\n",
                        "+-----------+---------+--------+--------------------+---+---+---+---+\n",
                        "|     101tuq|  comment|     100|Arin can fred |||...|  i|  n|  t|  j|\n",
                        "|     114fsa|  comment|     100|  ||| \"Are you ki...|  i|  s|  t|  p|\n",
                        "|     114fsa|    title|      67|Spin that wheel |...|  i|  s|  t|  p|\n",
                        "|     114mu2|  comment|     100|Die nerven sich m...|  e|  n|  f|  p|\n",
                        "|     116d0h|  comment|     100|I admire your abi...|  e|  n|  f|  j|\n",
                        "|   11dxh05w|  comment|     100|👏 but try not to...|  i|  n|  f|  p|\n",
                        "|     11ghzk|  comment|     100|1: At least 4 stu...|  i|  s|  f|  j|\n",
                        "|     11usaf|  comment|     100|She’s clearly not...|  i|  s|  t|  p|\n",
                        "|     11wn2y|  comment|     100|Yeah, I don’t rea...|  i|  n|  f|  p|\n",
                        "|     12bccu|    title|      50|GAME ENGINE DEVEL...|  e|  n|  t|  p|\n",
                        "|     12j670|  comment|     100|and pink diamond ...|  e|  n|  t|  p|\n",
                        "|     12ryws|  comment|     100|\"Just a pam looki...|  e|  n|  t|  p|\n",
                        "|     12u7ez|  comment|     100|Not gonna lie, I ...|  e|  s|  f|  p|\n",
                        "|     137353|  comment|     100|What the fuck is ...|  e|  s|  f|  p|\n",
                        "|     137vj7|  comment|     100|Please supply mor...|  e|  n|  t|  j|\n",
                        "|     13cdb4|  comment|     100|Why can't you guy...|  e|  n|  t|  j|\n",
                        "|     13wtt6|  comment|     100|Radio killed the ...|  e|  n|  f|  p|\n",
                        "|     1487jv|    title|      68|I'm actually Turb...|  i|  n|  t|  p|\n",
                        "|     156bjf|    title|      99|Ecuador says hack...|  i|  n|  f|  j|\n",
                        "|     15jjfq|  comment|     100|This applies to V...|  i|  n|  t|  p|\n",
                        "+-----------+---------+--------+--------------------+---+---+---+---+\n",
                        "only showing top 20 rows\n",
                        "\n"
                    ]
                },
                {
                    "data": {
                        "image/png": "[encoded data removed]",
                        "text/plain": [
                            "<Figure size 1000x1000 with 4 Axes>"
                        ]
                    },
                    "metadata": {},
                    "output_type": "display_data"
                }
            ],
            "source": [
                "# Split type in 4 indicators\n",
                "reddit_splitted_df, _ = split_type(reddit_df, withDrop=True)\n",
                "reddit_splitted_df.show()\n",
                "plot_indicators_distribution(reddit_splitted_df)"
            ]
        },
        {
            "cell_type": "markdown",
            "metadata": {
                "id": "aKcFhDvT5sua"
            },
            "source": [
                "# Union of MBTI dataset and Reddit dataset\n",
                "\n",
                "\n",
                "Almost 14.5k examples and models to train that will have more generalization. \n",
                "\n",
                "\n",
                "1.   Mixed \"forum\" posts with Reddit posts (different typing styles)\n",
                "2.   \"post\" column contains also comments or titles (short text)\n",
                "3.   Reddit dataset contains also posts not related to MBTI universe\n",
                "\n"
            ]
        },
        {
            "cell_type": "code",
            "execution_count": 23,
            "metadata": {
                "colab": {
                    "base_uri": "https://localhost:8080/",
                    "height": 1000
                },
                "id": "quLZIst54jFo",
                "outputId": "13b7de06-b8f1-49ab-9140-61c360d111c8"
            },
            "outputs": [
                {
                    "name": "stdout",
                    "output_type": "stream",
                    "text": [
                        "The dataset is composed by 5 columns and 14429 records\n",
                        "+--------------------+---+---+---+---+\n",
                        "|                post| ie| ns| tf| pj|\n",
                        "+--------------------+---+---+---+---+\n",
                        "|Arin can fred |||...|  i|  n|  t|  j|\n",
                        "|  ||| \"Are you ki...|  i|  s|  t|  p|\n",
                        "|Spin that wheel |...|  i|  s|  t|  p|\n",
                        "|Die nerven sich m...|  e|  n|  f|  p|\n",
                        "|I admire your abi...|  e|  n|  f|  j|\n",
                        "|👏 but try not to...|  i|  n|  f|  p|\n",
                        "|1: At least 4 stu...|  i|  s|  f|  j|\n",
                        "|She’s clearly not...|  i|  s|  t|  p|\n",
                        "|Yeah, I don’t rea...|  i|  n|  f|  p|\n",
                        "|GAME ENGINE DEVEL...|  e|  n|  t|  p|\n",
                        "|and pink diamond ...|  e|  n|  t|  p|\n",
                        "|\"Just a pam looki...|  e|  n|  t|  p|\n",
                        "|Not gonna lie, I ...|  e|  s|  f|  p|\n",
                        "|What the fuck is ...|  e|  s|  f|  p|\n",
                        "|Please supply mor...|  e|  n|  t|  j|\n",
                        "|Why can't you guy...|  e|  n|  t|  j|\n",
                        "|Radio killed the ...|  e|  n|  f|  p|\n",
                        "|I'm actually Turb...|  i|  n|  t|  p|\n",
                        "|Ecuador says hack...|  i|  n|  f|  j|\n",
                        "|This applies to V...|  i|  n|  t|  p|\n",
                        "+--------------------+---+---+---+---+\n",
                        "only showing top 20 rows\n",
                        "\n"
                    ]
                },
                {
                    "data": {
                        "image/png": "[encoded data removed]",
                        "text/plain": [
                            "<Figure size 1000x1000 with 4 Axes>"
                        ]
                    },
                    "metadata": {},
                    "output_type": "display_data"
                }
            ],
            "source": [
                "union_df = reddit_splitted_df.select('post', 'ie', 'ns', 'tf', 'pj').union(mbti_type_splitted_df)\n",
                "print(f\"The dataset is composed by {len(union_df.columns)} columns and {union_df.count()} records\")\n",
                "union_df.show()\n",
                "\n",
                "plot_indicators_distribution(union_df)"
            ]
        },
        {
            "cell_type": "markdown",
            "metadata": {
                "id": "eHMK7BKP6yvl"
            },
            "source": [
                "# Train/Test splitting & Feature Engineering\n",
                "Split the dataset in two:\n",
                "\n",
                "\n",
                "*   **Train set**: will be used for training (*~70%*)\n",
                "*   **Test set**: will be used for testing models (*~30%*)\n",
                "\n",
                "# Feature engineering\n",
                "\n",
                "\n",
                "1.   **Clean** and **normalize** text (i.e.: remove link, emojis, emoticons, non alphanumeric characters and then split text in terms)\n",
                "2.   Extract features\n",
                "\n",
                "For this **two** operations we will create two different **pipelines** using `pyspark.ml.Pipeline`. \n",
                "\n",
                "\n",
                "\n"
            ]
        },
        {
            "cell_type": "code",
            "execution_count": 24,
            "metadata": {
                "id": "EILHWqKJ4jIC"
            },
            "outputs": [],
            "source": [
                "# train/test splitting\n",
                "train_df, test_df = union_df.randomSplit([0.7, 0.3])\n",
                "train_df = train_df.cache()\n",
                "test_df = test_df.cache()\n",
                "\n",
                "# feature engineering\n",
                "def save_model(model, name):\n",
                "  \"\"\"\n",
                "  Given a model, it saves it in PRETRAINED_MODELS_PATH folder, with name: name_datetime\n",
                "\n",
                "  Parameters\n",
                "  ----------\n",
                "  model : pyspark.ml.base.Model\n",
                "      Model to save\n",
                "  name : str\n",
                "      Model name\n",
                "  \"\"\"\n",
                "  import datetime\n",
                "  path = PRETRAINED_MODELS_PATH + name + f'_{datetime.datetime.now().strftime(\"%Y%m%d%H%M\")}'\n",
                "  print(f'Saving the model at this path: {path}')\n",
                "  model.write().overwrite().save(path)"
            ]
        },
        {
            "cell_type": "markdown",
            "metadata": {},
            "source": [
                "## Text cleaning and normalization pipeline\n",
                "\n",
                "For creating this pipeline we will use **SparkNLP** *annotators* and *transformers*, in particular:\n",
                "\n",
                "* `DocumentAssembler` for assembling posts as a document\n",
                "* `Tokenizer` for splitting our text into words (or better \"tokens\")\n",
                "* `Normalizer` for lowering text, removing non words (e.g. links or emojis)\n",
                "* `Lemmatizer` for obtaining word's lemma, i.e. same words but in different forms will be transformed in only one word (e.g. \"found\" and \"find\" => \"find\")\n",
                "* `StopWordsCleaner` for removing not meaningful words (e.g. \"it's\", \"I\", \"and\",..)\n",
                "* `Finisher` for transforming pipeline output in a human readable list of terms\n",
                "\n"
            ]
        },
        {
            "cell_type": "code",
            "execution_count": null,
            "metadata": {
                "id": "8GOX88KQCoNZ"
            },
            "outputs": [],
            "source": [
                "def text_cleaning_pipeline(df, inputCol='post', outputCol='terms', saveModel=False):\n",
                "  \"\"\"\n",
                "  Given a dataframe, an input column (inputCol) and an output column (outputCol) it\n",
                "  fits a pipeline that cleans and normalizes inputCol text, and write the result on\n",
                "  outputCol.\n",
                "  \n",
                "  It returns the fitted PipelineModel\n",
                "\n",
                "  Parameters\n",
                "  ----------\n",
                "  df : pyspark.sql.DataFrame\n",
                "      Input DataFrame which contains posts\n",
                "  inputCol : str, optional\n",
                "      Column containing text to normalize and clean. (Default value is 'post')\n",
                "  outputCol : str, optional\n",
                "      Column where the model will put cleaned text. (Default value is 'terms')\n",
                "  saveModel : bool, optional\n",
                "      If True the function will save the model. (Default value is False)\n",
                "  \"\"\"\n",
                "\n",
                "  normalization_patterns = [\n",
                "    '(https?:\\/\\/(?:www\\.|(?!www))[a-zA-Z0-9][a-zA-Z0-9-]+[a-zA-Z0-9]\\.[^\\s]{2,}|www\\.[a-zA-Z0-9]' + \\\n",
                "    '[a-zA-Z0-9-]+[a-zA-Z0-9]\\.[^\\s]{2,}|https?:\\/\\/(?:www\\.|(?!www))[a-zA-Z0-9]+\\.[^\\s]{2,}|www\\.[a-zA-Z0-9]+\\.[^\\s]{2,})', # url\n",
                "    ':\\)|:-\\)|:\\(|:-\\(|;\\);-\\)|:-O|8-|:P|:D|:\\||:S|:\\$|:@|8o\\||\\+o\\(|\\(H\\)|\\(C\\)|\\(\\?\\)', #emoticons\n",
                "    '(\\[removed\\])',  # removed reddit instance\n",
                "    '[^A-Za-z]',\n",
                "    '([ieIE])([nsNS])([tfTF])([pjPJ])', # remove mbti words\n",
                "    '([a-z])\\1{2,}[\\s|\\w]*' # remove consecutive single chars\n",
                "  ]\n",
                "  \n",
                "  documentAssembler = DocumentAssembler()\\\n",
                "    .setInputCol(inputCol)\\\n",
                "    .setOutputCol('document')\n",
                "  \n",
                "  tokenizer = Tokenizer() \\\n",
                "    .setInputCols(['document']) \\\n",
                "    .setOutputCol('token')\n",
                "  \n",
                "  normalizer = Normalizer() \\\n",
                "    .setInputCols(['token']) \\\n",
                "    .setOutputCol('normalized')\\\n",
                "    .setLowercase(True)\\\n",
                "    .setCleanupPatterns(normalization_patterns)\n",
                "  \n",
                "  lemmatizer = LemmatizerModel.pretrained() \\\n",
                "    .setInputCols(['normalized']) \\\n",
                "    .setOutputCol('lemma')\n",
                "  \n",
                "  stopwords_cleaner = StopWordsCleaner().pretrained('stopwords_en', 'en')\\\n",
                "      .setInputCols('lemma')\\\n",
                "      .setOutputCol('cleanLemma_1')\\\n",
                "      .setCaseSensitive(False)\n",
                "\n",
                "  second_stopwords_cleaner = StopWordsCleaner()\\\n",
                "      .setInputCols('cleanLemma_1')\\\n",
                "      .setOutputCol('cleanLemma_2')\\\n",
                "      .setCaseSensitive(False)\\\n",
                "      .setStopWords(['isnt', 'dont', 'ive', 'im', 'arent', 'doesnt', 'havent', 'youre'])\n",
                "  \n",
                "  finisher = Finisher() \\\n",
                "    .setInputCols(['cleanLemma_2']) \\\n",
                "    .setOutputCols([outputCol]) \\\n",
                "    .setIncludeMetadata(False)\n",
                "  \n",
                "  pipeline_stages = [\n",
                "    documentAssembler,\n",
                "    tokenizer,\n",
                "    normalizer,\n",
                "    lemmatizer,\n",
                "    stopwords_cleaner,\n",
                "    second_stopwords_cleaner,\n",
                "    finisher\n",
                "  ]\n",
                "\n",
                "  # fit pipeline\n",
                "  tc_pipeline_model = Pipeline(stages=pipeline_stages).fit(df)\n",
                "\n",
                "  # save model\n",
                "  if saveModel:\n",
                "    save_model(tc_pipeline_model, 'tc_pipeline')\n",
                "\n",
                "  return tc_pipeline_model"
            ]
        },
        {
            "cell_type": "markdown",
            "metadata": {
                "id": "gOoftMv-UKLD"
            },
            "source": [
                "### Creating/Loading and applying the pipeline transfomations to train and test sets"
            ]
        },
        {
            "cell_type": "code",
            "execution_count": null,
            "metadata": {
                "colab": {
                    "base_uri": "https://localhost:8080/"
                },
                "executionInfo": {
                    "elapsed": 4949,
                    "status": "ok",
                    "timestamp": 1625730364652,
                    "user": {
                        "displayName": "Eduardo Rinaldi",
                        "photoUrl": "https://lh3.googleusercontent.com/a-/AOh14GjICFFYF_oZkC-VSi_Sb89jksqxq1BKOyZxbsKfPA=s64",
                        "userId": "00823218678353006274"
                    },
                    "user_tz": -120
                },
                "id": "jeApVQD9n_uU",
                "outputId": "e18aa208-8d67-4448-f672-347df5549e25"
            },
            "outputs": [
                {
                    "name": "stdout",
                    "output_type": "stream",
                    "text": [
                        "Using pretrained text cleaning pipeline model: tc_pipeline_202107041409\n"
                    ]
                }
            ],
            "source": [
                "# Set this to False for training a new Text Cleaning Pipeline\n",
                "USE_PRETRAINED_TC_PIPELINE = True\n",
                "PRETRAINED_TC_PIPELINE_NAME = 'tc_pipeline_202107041409'\n",
                "\n",
                "if USE_PRETRAINED_TC_PIPELINE:\n",
                "  print(f'Using pretrained text cleaning pipeline model: {PRETRAINED_TC_PIPELINE_NAME}')\n",
                "  tc_pipeline = PipelineModel.load(PRETRAINED_MODELS_PATH+PRETRAINED_TC_PIPELINE_NAME)\n",
                "else:\n",
                "  print('Fitting new text cleaning pipeline')\n",
                "  tc_pipeline = text_cleaning_pipeline(train_df, saveModel=True)\n",
                "\n",
                "# transforming both train and test\n",
                "clean_train_df = tc_pipeline.transform(train_df)\n",
                "clean_test_df = tc_pipeline.transform(test_df)"
            ]
        },
        {
            "attachments": {},
            "cell_type": "markdown",
            "metadata": {
                "id": "woxXC3wZUn61"
            },
            "source": [
                "## Feature extraction pipeline\n",
                "In this phase we're going to build a new pipeline that will extract features from text using:\n",
                "\n",
                "1. `CountVectorizer` for obtaining terms frequency\n",
                "2. `IDF` for \"weighting\" terms frequency\n",
                "3. `PCA` for reducing dimensionality\n",
                "\n",
                "Problems with this approach occurs when **TF-IDF** produces a very high dimensional vector (+100k): **PCA will use use all the available RAM**.\n",
                "\n",
                "To limit this problem we have different options:\n",
                "\n",
                "1. Use another \"dimensionality reduction\" strategy: the problem with this approach is that PySpark (Dataframe-based) not have any other model for doing this. MLlib implements SVD, but it's very very slow.\n",
                "2. Reduce `vocabSize` in CountVectorizer increasing `minDF`: the \"problem\" with this approach is that PCA will have less features to analyze.\n",
                "3. Use a model which is not affected by curse of dimensionality (i.e. Naive Bayes)\n",
                "\n",
                "Applied (2) and (3)."
            ]
        },
        {
            "cell_type": "code",
            "execution_count": null,
            "metadata": {
                "id": "kdNNxoMUCsG3"
            },
            "outputs": [],
            "source": [
                "def feature_extraction_pipeline(df,\n",
                "                                termsCol='terms',\n",
                "                                outputCVFeaturesCol='cv_features',\n",
                "                                cvVocabSize=262144,\n",
                "                                outputIdfFeaturesCol='idf_features',\n",
                "                                outputPCAFeaturesCol='pca_features',\n",
                "                                pcaK=100,\n",
                "                                cvMinDF=0.01,\n",
                "                                indicatorsCols=['ie','ns','tf','pj'],\n",
                "                                pretrainedName='',\n",
                "                                saveModel=False):\n",
                "  \"\"\"\n",
                "  Given a dataframe, an input column (termsCol) and multiple output columns \n",
                "  (outputCVFeaturesCol, outputIdfFeaturesCol, outputPCAFeaturesCol) it fits a \n",
                "  pipeline that extract features from termsCol using TF-IDF and PCA\n",
                "  \n",
                "  It returns the fitted PipelineModel\n",
                "\n",
                "  Parameters\n",
                "  ----------\n",
                "  df : pyspark.sql.DataFrame\n",
                "      Input DataFrame\n",
                "  termsCol : str, optional\n",
                "      Column containing terms from which to extract features. (Default value is 'terms')\n",
                "  outputCVFeaturesCol : str, optional\n",
                "      Column where the model will put CountVectorizer features. (Default value is 'cv_features')\n",
                "  cvVocabSize : int, optional\n",
                "      CountVectorizer vocabulary size. (Default value is 262144)\n",
                "  outputIdfFeaturesCol : str, optional\n",
                "      Column where the model will put IDF features. (Default value is 'idf_features')\n",
                "  outputPCAFeaturesCol : str, optional\n",
                "      Column where the model will put PCA features. (Default value is 'pca_features')\n",
                "  pcaK : int, optional\n",
                "      Number of PC to use. (Default value is '100')\n",
                "  cvMinDF : float, optional\n",
                "      Minimum frequency of a term to be included. Range [0, 1] (Default value is '0.01')\n",
                "  indicatorsCols : List[int], optional\n",
                "      List of indicators. (Default value is ['ie','ns','tf','pj'])\n",
                "  pretrainedName : str, optional\n",
                "      name of the pretrained model to load. If empty not pretrained model will be loaded (Default value is '')\n",
                "  saveModel : bool, optional\n",
                "      If True the function will save the model. (Default value is False)\n",
                "  \"\"\"\n",
                "\n",
                "  from pyspark.ml.feature import CountVectorizer, IDF, PCA, StringIndexer\n",
                "  from pyspark.ml import Pipeline, PipelineModel\n",
                "  \n",
                "  # if pretrainedName is not empty ==> load pretrained pipeline\n",
                "  if pretrainedName != '':\n",
                "    pipeline_model = PipelineModel.load(PRETRAINED_MODELS_PATH+pretrainedName)\n",
                "    print(f'Using a pretrained pipeline model saved at this path: {pretrainedName}')\n",
                "  else:\n",
                "    print('Creating a new pipeline model')\n",
                "    # CountVectorizer\n",
                "    cv = CountVectorizer(inputCol=termsCol, outputCol=outputCVFeaturesCol, minDF=cvMinDF, vocabSize=cvVocabSize)\n",
                "    # IDF\n",
                "    idf = IDF(inputCol=outputCVFeaturesCol, outputCol=outputIdfFeaturesCol)\n",
                "    # PCA\n",
                "    pca = PCA(k=100, inputCol=outputIdfFeaturesCol, outputCol=outputPCAFeaturesCol)\n",
                "    # StringIndexers\n",
                "    string_indexers = [StringIndexer(inputCol=ind, outputCol=f\"idx_{ind}\") for ind in indicators]\n",
                "    # if PCA K==0 ==> don't add it to pipeline\n",
                "    stages = [cv, idf] + ([pca] if pcaK > 0 else []) + string_indexers\n",
                "    print('Fitting the new pipeline model')\n",
                "    pipeline_model = Pipeline(stages=stages).fit(df)\n",
                "  \n",
                "  # save pipeline\n",
                "  if saveModel:\n",
                "    tmp_pca_str = f'pca{pcaK}_' if pcaK > 0 else ''\n",
                "    save_path = f'cv{cvMinDF}_idf_{tmp_pca_str}'\n",
                "    save_model(pipeline_model, save_path)\n",
                "  \n",
                "  return pipeline_model"
            ]
        },
        {
            "cell_type": "markdown",
            "metadata": {
                "id": "2yz_GU46eggX"
            },
            "source": [
                "## Creating/Loading feature extraction pipeline"
            ]
        },
        {
            "cell_type": "code",
            "execution_count": null,
            "metadata": {
                "colab": {
                    "base_uri": "https://localhost:8080/"
                },
                "executionInfo": {
                    "elapsed": 14107,
                    "status": "ok",
                    "timestamp": 1625730379707,
                    "user": {
                        "displayName": "Eduardo Rinaldi",
                        "photoUrl": "https://lh3.googleusercontent.com/a-/AOh14GjICFFYF_oZkC-VSi_Sb89jksqxq1BKOyZxbsKfPA=s64",
                        "userId": "00823218678353006274"
                    },
                    "user_tz": -120
                },
                "id": "5HNbn-N3Ctch",
                "outputId": "9de97fb0-17db-4f6a-a6b2-cbe8703a85a1"
            },
            "outputs": [
                {
                    "name": "stdout",
                    "output_type": "stream",
                    "text": [
                        "Using a pretrained pipeline model saved at this path: cv0.01_idf_pca100_202106291739\n",
                        "+--------------------+---+---+---+---+--------------------+--------------------+--------------------+--------------------+------+------+------+------+\n",
                        "|                post| ie| ns| tf| pj|               terms|         cv_features|        idf_features|        pca_features|idx_ie|idx_ns|idx_tf|idx_pj|\n",
                        "+--------------------+---+---+---+---+--------------------+--------------------+--------------------+--------------------+------+------+------+------+\n",
                        "|\n",
                        "\n",
                        "-I love it how ...|  i|  n|  t|  j|[love, officially...|(5305,[0,1,2,3,4,...|(5305,[0,1,2,3,4,...|[-0.0312529531246...|   0.0|   0.0|   0.0|   1.0|\n",
                        "|\n",
                        "I just moved int...|  i|  n|  t|  j|[move, apartment,...|(5305,[0,1,2,3,4,...|(5305,[0,1,2,3,4,...|[-0.0047364548986...|   0.0|   0.0|   0.0|   1.0|\n",
                        "|  ||| \"Are you ki...|  i|  s|  t|  j|[kid, work, day, ...|(5305,[0,1,3,4,5,...|(5305,[0,1,3,4,5,...|[-0.0117535358123...|   0.0|   1.0|   0.0|   1.0|\n",
                        "|  ||| \"Are you ki...|  i|  s|  t|  p|[kid, work, day, ...|(5305,[0,1,3,4,5,...|(5305,[0,1,3,4,5,...|[-0.0117535358123...|   0.0|   1.0|   0.0|   0.0|\n",
                        "| \"riding things\" ...|  i|  s|  t|  p|[ride, thing, lma...|(5305,[0,1,2,3,4,...|(5305,[0,1,2,3,4,...|[0.00350266780176...|   0.0|   1.0|   0.0|   0.0|\n",
                        "| **Hyouka** ||| I...|  i|  n|  t|  p|[hyouka, confiden...|(5305,[0,1,2,3,4,...|(5305,[0,1,2,3,4,...|[0.00370541233598...|   0.0|   0.0|   0.0|   0.0|\n",
                        "|\" you usless piec...|  i|  n|  f|  j|[usless, piece, p...|(5305,[0,1,2,3,4,...|(5305,[0,1,2,3,4,...|[-0.0022860434536...|   0.0|   0.0|   1.0|   1.0|\n",
                        "|\"Everyone is invi...|  i|  s|  t|  p|[invite, suspicio...|(5305,[0,1,2,3,4,...|(5305,[0,1,2,3,4,...|[-0.0083081859882...|   0.0|   1.0|   0.0|   0.0|\n",
                        "|\"Fluent in sarcas...|  i|  s|  t|  j|[fluent, sarcasm,...|(5305,[0,1,3,5,6,...|(5305,[0,1,3,5,6,...|[-0.0173364497192...|   0.0|   1.0|   0.0|   1.0|\n",
                        "|\"I'm fucking dumb...|  i|  n|  t|  p|[fucking, dumb, f...|(5305,[0,1,2,3,4,...|(5305,[0,1,2,3,4,...|[-0.0123180618326...|   0.0|   0.0|   0.0|   0.0|\n",
                        "|\"IATA for telling...|  i|  n|  t|  j|[iata, family, di...|(5305,[0,1,2,3,4,...|(5305,[0,1,2,3,4,...|[0.00497129849020...|   0.0|   0.0|   0.0|   1.0|\n",
                        "|\"IS THAT MY WIFE ...|  i|  n|  f|  p|[wife, unborn, ch...|(5305,[0,1,2,3,4,...|(5305,[0,1,2,3,4,...|[-0.0083671737734...|   0.0|   0.0|   1.0|   0.0|\n",
                        "|\"Just a pam looki...|  e|  n|  t|  p|[pam, jim, kill, ...|(5305,[0,1,2,3,4,...|(5305,[0,1,2,3,4,...|[-0.0107220521594...|   1.0|   0.0|   0.0|   0.0|\n",
                        "|\"Nobody's dick's ...|  e|  n|  f|  p|[nobodys, dick, l...|(5305,[0,1,2,3,4,...|(5305,[0,1,2,3,4,...|[-0.0081529354837...|   1.0|   0.0|   1.0|   0.0|\n",
                        "|\"People who brag ...|  e|  n|  t|  j|[people, brag, iq...|(5305,[0,1,2,3,4,...|(5305,[0,1,2,3,4,...|[-0.0080233310225...|   1.0|   0.0|   0.0|   1.0|\n",
                        "|\"THEN YOU DON'T H...|  i|  n|  t|  p|[anymore, love, w...|(5305,[0,1,2,3,5,...|(5305,[0,1,2,3,5,...|[-0.0024496689927...|   0.0|   0.0|   0.0|   0.0|\n",
                        "|\"There are no mis...|  i|  n|  f|  j|[mistake, happy, ...|(5305,[0,1,2,3,4,...|(5305,[0,1,2,3,4,...|[-0.0050653729001...|   0.0|   0.0|   1.0|   1.0|\n",
                        "|\"We put the FUN i...|  e|  s|  t|  p|[put, fun, dysfun...|(5305,[0,1,2,3,4,...|(5305,[0,1,2,3,4,...|[-0.0285399999459...|   1.0|   1.0|   0.0|   0.0|\n",
                        "|\"You had ONE JOB!...|  i|  n|  f|  p|[job, sqa, exam, ...|(5305,[0,1,2,3,4,...|(5305,[0,1,2,3,4,...|[-2.8365038884261...|   0.0|   0.0|   1.0|   0.0|\n",
                        "|\"i beg ur differ\"...|  i|  n|  f|  j|[beg, ur, differ,...|(5305,[0,1,2,3,4,...|(5305,[0,1,2,3,4,...|[-0.0043176482735...|   0.0|   0.0|   1.0|   1.0|\n",
                        "+--------------------+---+---+---+---+--------------------+--------------------+--------------------+--------------------+------+------+------+------+\n",
                        "only showing top 20 rows\n",
                        "\n"
                    ]
                }
            ],
            "source": [
                "# Set this to False for training a new Feature Extraction pipeline\n",
                "USE_PRETRAINED_FE_PIPELINE = True\n",
                "PRETRAINED_FE_PIPELINE_NAME = 'cv0.01_idf_pca100_202106291739'\n",
                "\n",
                "fe_pipeline = feature_extraction_pipeline(clean_train_df, pretrainedName=PRETRAINED_FE_PIPELINE_NAME if USE_PRETRAINED_FE_PIPELINE else '')\n",
                "# String indexer labels\n",
                "labels = [fe_pipeline.stages[3+i].labels for i, ind in enumerate(indicators)]\n",
                "\n",
                "# show some random samples\n",
                "fe_pipeline.transform(clean_train_df).show()"
            ]
        },
        {
            "cell_type": "code",
            "execution_count": null,
            "metadata": {
                "colab": {
                    "base_uri": "https://localhost:8080/",
                    "height": 282
                },
                "executionInfo": {
                    "elapsed": 599,
                    "status": "ok",
                    "timestamp": 1625677836394,
                    "user": {
                        "displayName": "Eduardo Rinaldi",
                        "photoUrl": "https://lh3.googleusercontent.com/a-/AOh14GjICFFYF_oZkC-VSi_Sb89jksqxq1BKOyZxbsKfPA=s64",
                        "userId": "00823218678353006274"
                    },
                    "user_tz": -120
                },
                "id": "QfVYF54UCvRx",
                "outputId": "efd35a97-7343-4889-ace6-4cf27521ec2f"
            },
            "outputs": [
                {
                    "data": {
                        "text/plain": [
                            "[<matplotlib.lines.Line2D at 0x7fc48e121bd0>]"
                        ]
                    },
                    "execution_count": 28,
                    "metadata": {
                        "tags": []
                    },
                    "output_type": "execute_result"
                },
                {
                    "data": {
                        "image/png": "[encoded data removed]",
                        "text/plain": [
                            "<Figure size 432x288 with 1 Axes>"
                        ]
                    },
                    "metadata": {
                        "needs_background": "light",
                        "tags": []
                    },
                    "output_type": "display_data"
                }
            ],
            "source": [
                "# Explained Variance by PCA (from ~20 features not so much variance)\n",
                "plt.plot(fe_pipeline.stages[2].explainedVariance)"
            ]
        },
        {
            "cell_type": "markdown",
            "metadata": {
                "id": "SQMSOq3Fe4Mp"
            },
            "source": [
                "### Extracting features from **train** and **test** sets"
            ]
        },
        {
            "cell_type": "code",
            "execution_count": null,
            "metadata": {
                "colab": {
                    "base_uri": "https://localhost:8080/"
                },
                "executionInfo": {
                    "elapsed": 565856,
                    "status": "ok",
                    "timestamp": 1625734441178,
                    "user": {
                        "displayName": "Eduardo Rinaldi",
                        "photoUrl": "https://lh3.googleusercontent.com/a-/AOh14GjICFFYF_oZkC-VSi_Sb89jksqxq1BKOyZxbsKfPA=s64",
                        "userId": "00823218678353006274"
                    },
                    "user_tz": -120
                },
                "id": "FDm5lSj3Cwbf",
                "outputId": "a4f9b055-2b8a-47f2-dcf7-b145be32b6a4"
            },
            "outputs": [
                {
                    "name": "stdout",
                    "output_type": "stream",
                    "text": [
                        "+--------------------+---+---+---+---+--------------------+--------------------+--------------------+--------------------+------+------+------+------+\n",
                        "|                post| ie| ns| tf| pj|               terms|         cv_features|        idf_features|        pca_features|idx_ie|idx_ns|idx_tf|idx_pj|\n",
                        "+--------------------+---+---+---+---+--------------------+--------------------+--------------------+--------------------+------+------+------+------+\n",
                        "|\n",
                        "\n",
                        "-I love it how ...|  i|  n|  t|  j|[love, officially...|(5305,[0,1,2,3,4,...|(5305,[0,1,2,3,4,...|[-0.0312529531246...|   0.0|   0.0|   0.0|   1.0|\n",
                        "|\n",
                        "I just moved int...|  i|  n|  t|  j|[move, apartment,...|(5305,[0,1,2,3,4,...|(5305,[0,1,2,3,4,...|[-0.0047364548986...|   0.0|   0.0|   0.0|   1.0|\n",
                        "|  ||| \"Are you ki...|  i|  s|  t|  j|[kid, work, day, ...|(5305,[0,1,3,4,5,...|(5305,[0,1,3,4,5,...|[-0.0117535358123...|   0.0|   1.0|   0.0|   1.0|\n",
                        "|  ||| \"Are you ki...|  i|  s|  t|  p|[kid, work, day, ...|(5305,[0,1,3,4,5,...|(5305,[0,1,3,4,5,...|[-0.0117535358123...|   0.0|   1.0|   0.0|   0.0|\n",
                        "| \"riding things\" ...|  i|  s|  t|  p|[ride, thing, lma...|(5305,[0,1,2,3,4,...|(5305,[0,1,2,3,4,...|[0.00350266780176...|   0.0|   1.0|   0.0|   0.0|\n",
                        "| **Hyouka** ||| I...|  i|  n|  t|  p|[hyouka, confiden...|(5305,[0,1,2,3,4,...|(5305,[0,1,2,3,4,...|[0.00370541233598...|   0.0|   0.0|   0.0|   0.0|\n",
                        "|\" you usless piec...|  i|  n|  f|  j|[usless, piece, p...|(5305,[0,1,2,3,4,...|(5305,[0,1,2,3,4,...|[-0.0022860434536...|   0.0|   0.0|   1.0|   1.0|\n",
                        "|\"Everyone is invi...|  i|  s|  t|  p|[invite, suspicio...|(5305,[0,1,2,3,4,...|(5305,[0,1,2,3,4,...|[-0.0083081859882...|   0.0|   1.0|   0.0|   0.0|\n",
                        "|\"Fluent in sarcas...|  i|  s|  t|  j|[fluent, sarcasm,...|(5305,[0,1,3,5,6,...|(5305,[0,1,3,5,6,...|[-0.0173364497192...|   0.0|   1.0|   0.0|   1.0|\n",
                        "|\"I'm fucking dumb...|  i|  n|  t|  p|[fucking, dumb, f...|(5305,[0,1,2,3,4,...|(5305,[0,1,2,3,4,...|[-0.0123180618326...|   0.0|   0.0|   0.0|   0.0|\n",
                        "|\"IATA for telling...|  i|  n|  t|  j|[iata, family, di...|(5305,[0,1,2,3,4,...|(5305,[0,1,2,3,4,...|[0.00497129849020...|   0.0|   0.0|   0.0|   1.0|\n",
                        "|\"IS THAT MY WIFE ...|  i|  n|  f|  p|[wife, unborn, ch...|(5305,[0,1,2,3,4,...|(5305,[0,1,2,3,4,...|[-0.0083671737734...|   0.0|   0.0|   1.0|   0.0|\n",
                        "|\"Just a pam looki...|  e|  n|  t|  p|[pam, jim, kill, ...|(5305,[0,1,2,3,4,...|(5305,[0,1,2,3,4,...|[-0.0107220521594...|   1.0|   0.0|   0.0|   0.0|\n",
                        "|\"Nobody's dick's ...|  e|  n|  f|  p|[nobodys, dick, l...|(5305,[0,1,2,3,4,...|(5305,[0,1,2,3,4,...|[-0.0081529354837...|   1.0|   0.0|   1.0|   0.0|\n",
                        "|\"People who brag ...|  e|  n|  t|  j|[people, brag, iq...|(5305,[0,1,2,3,4,...|(5305,[0,1,2,3,4,...|[-0.0080233310225...|   1.0|   0.0|   0.0|   1.0|\n",
                        "|\"THEN YOU DON'T H...|  i|  n|  t|  p|[anymore, love, w...|(5305,[0,1,2,3,5,...|(5305,[0,1,2,3,5,...|[-0.0024496689927...|   0.0|   0.0|   0.0|   0.0|\n",
                        "|\"There are no mis...|  i|  n|  f|  j|[mistake, happy, ...|(5305,[0,1,2,3,4,...|(5305,[0,1,2,3,4,...|[-0.0050653729001...|   0.0|   0.0|   1.0|   1.0|\n",
                        "|\"We put the FUN i...|  e|  s|  t|  p|[put, fun, dysfun...|(5305,[0,1,2,3,4,...|(5305,[0,1,2,3,4,...|[-0.0285399999459...|   1.0|   1.0|   0.0|   0.0|\n",
                        "|\"You had ONE JOB!...|  i|  n|  f|  p|[job, sqa, exam, ...|(5305,[0,1,2,3,4,...|(5305,[0,1,2,3,4,...|[-2.8365038884261...|   0.0|   0.0|   1.0|   0.0|\n",
                        "|\"i beg ur differ\"...|  i|  n|  f|  j|[beg, ur, differ,...|(5305,[0,1,2,3,4,...|(5305,[0,1,2,3,4,...|[-0.0043176482735...|   0.0|   0.0|   1.0|   1.0|\n",
                        "+--------------------+---+---+---+---+--------------------+--------------------+--------------------+--------------------+------+------+------+------+\n",
                        "only showing top 20 rows\n",
                        "\n"
                    ]
                }
            ],
            "source": [
                "final_train_df = fe_pipeline.transform(clean_train_df)\n",
                "final_test_df = fe_pipeline.transform(clean_test_df)\n",
                "\n",
                "final_train_df.show()"
            ]
        },
        {
            "attachments": {},
            "cell_type": "markdown",
            "metadata": {
                "id": "qulkFGOfe-Hd"
            },
            "source": [
                "# Training and tuning pipelines\n",
                "Now that we have extracted features from text we can give them to a training algorithm!\n",
                "The goal here is to build 4 differents Binary Classifiers one for each type indicator. We'll test 4 different training algorithms:\n",
                "\n",
                "1. Naive Bayes (**NB**)\n",
                "2. Linear SVC (**SVC**)\n",
                "3. Logistic Regression (**LR**)\n",
                "4. Neural Network (**NN**)\n",
                "\n",
                "NB will be the only one that will use `'idf_features'` column directly.\n",
                "\n",
                "For each model find hyperparameters that maximize some score (in this case score metric is 'f1', due to the unbalancing situation), for doing use `pyspark.ml.tuning.CrossValidator`.\n",
                "\n"
            ]
        },
        {
            "cell_type": "code",
            "execution_count": null,
            "metadata": {
                "id": "Dz-BwcvZCx-5"
            },
            "outputs": [],
            "source": [
                "def ml_pipeline(df,\n",
                "                trainingAlgorithm,\n",
                "                paramGrid,\n",
                "                evaluator,\n",
                "                labels,\n",
                "                kFold=4,\n",
                "                featuresCol='features',\n",
                "                indexedTargetCol='idx_target',\n",
                "                predictionCol='prediction',\n",
                "                rawPredictionCol='raw_prediction',\n",
                "                labeledPredictionCol='labeled_prediction', \n",
                "                metricName='f1'):\n",
                "  \n",
                "  \"\"\"\n",
                "  General function for creating a ml pipeline with hyperparameters tuning and k-fold cross validation.\n",
                "\n",
                "  It returns a CrossValidatorModel\n",
                "\n",
                "  Parameters\n",
                "  ----------\n",
                "  df : pyspark.sql.DataFrame\n",
                "      Input DataFrame\n",
                "  trainingAlgorithm : pyspark.ml.Predictor\n",
                "      Training algorithm to use (e.g. pyspark.ml.NaiveBayes, pyspark.ml.LogisticRegression).\n",
                "  paramGrid : dict\n",
                "      Grid of parameters to tune (Use ParamGridBuilder for creating one)\n",
                "  evaluator : pyspark.ml.evaluation.Evaluator \n",
                "      Evaluator used for evaluating trained models\n",
                "  labels : List[str]\n",
                "      List of target labels\n",
                "  kFold : int, optional\n",
                "      K parameter for K-Fold, i.e. num. of folds (Default value is '4')\n",
                "  featuresCol : str, optional\n",
                "      Column of features to use for training. (Default value is 'features')\n",
                "  indexedTargetCol : str, optional\n",
                "      Column of indexed target (Default value is 'idx_target')\n",
                "  predictionCol : str, optional\n",
                "      Column on which will be put prediction (Default value is 'prediction')\n",
                "  rawPredictionCol : str, optional\n",
                "      Column on which will be put raw prediction (Default value is 'rawPrediction')\n",
                "  labeledPredictionCol : str, optional\n",
                "      Column on which will be put labeled prediction (Default value is 'labeled_prediction')\n",
                "  metricName : str, optional\n",
                "      Metric used for choosing best model (Default value is 'f1')\n",
                "\n",
                "  \"\"\"\n",
                "\n",
                "  from pyspark.ml.feature import IndexToString\n",
                "  from pyspark.ml.tuning import CrossValidator\n",
                "  from pyspark.ml import Pipeline\n",
                "\n",
                "  # Training algorithm\n",
                "  trainingAlgorithm = trainingAlgorithm.setFeaturesCol(featuresCol).setLabelCol(indexedTargetCol).setPredictionCol(predictionCol).setRawPredictionCol(rawPredictionCol)\n",
                "  \n",
                "  # Converts prediction to corresponding label\n",
                "  idx2str = IndexToString(inputCol=predictionCol,\n",
                "                          outputCol=labeledPredictionCol,\n",
                "                          labels=labels)\n",
                "  \n",
                "  # create the pipeline\n",
                "  ml_pipeline = Pipeline(stages=[trainingAlgorithm, idx2str])\n",
                "  \n",
                "  # create the evaluator\n",
                "  evaluator = evaluator.setLabelCol(indexedTargetCol).setPredictionCol(predictionCol).setMetricName(metricName)\n",
                "  \n",
                "  # K-Fold cross validation for hyperparameters tuning\n",
                "  return CrossValidator(estimator=ml_pipeline, estimatorParamMaps=paramGrid, evaluator=evaluator, numFolds=kFold, collectSubModels=True).fit(df)"
            ]
        },
        {
            "attachments": {},
            "cell_type": "markdown",
            "metadata": {
                "id": "QZRBUsNdvDsa"
            },
            "source": [
                "Calculating scores based on every metric."
            ]
        },
        {
            "cell_type": "code",
            "execution_count": null,
            "metadata": {
                "id": "0vcsGdxutYF9"
            },
            "outputs": [],
            "source": [
                "def evaluate_model(model, \n",
                "                   eval_df, \n",
                "                   predictionCol='prediction', \n",
                "                   labelCol='label', \n",
                "                   metrics=['accuracy', 'f1', 'precisionByLabel', 'recallByLabel', 'weightedPrecision', 'weightedRecall']):\n",
                "  \"\"\"\n",
                "  Evaluates a given model on a certain df given as input.\n",
                "\n",
                "  It returns a dictionary containing:\n",
                "    - key <= metric name\n",
                "    - value <= score achieved on that metric \n",
                "\n",
                "  Parameters\n",
                "  ----------\n",
                "  model : pyspark.ml.PredictorModel\n",
                "      Model to evaluate\n",
                "  eval_df : pyspark.sql.DataFrame\n",
                "      DataFrame used for evaluation\n",
                "  predictionCol : str, optional\n",
                "      Column where predictions are listed (Default value is 'prediction')\n",
                "  labelCol : str, optional\n",
                "      Evaluator used for evaluating trained models (Default value is 'label')\n",
                "  metric : List[str], optional\n",
                "      List of metric to use for the evaluation (Default is a list of all metrics available)\n",
                "  \"\"\"\n",
                "  \n",
                "  from pyspark.ml.evaluation import MulticlassClassificationEvaluator\n",
                "  \n",
                "  scores = {}\n",
                "  # for each metric evaluate a score\n",
                "  for metric in metrics:\n",
                "    evaluator = MulticlassClassificationEvaluator(predictionCol=predictionCol, labelCol=labelCol, metricName=metric)\n",
                "    scores[metric] = evaluator.evaluate(model.transform(eval_df))\n",
                "  return scores"
            ]
        },
        {
            "attachments": {},
            "cell_type": "markdown",
            "metadata": {
                "id": "-HvNKm-6NFkj"
            },
            "source": [
                "Cells with pretrained models names obtained from training"
            ]
        },
        {
            "cell_type": "code",
            "execution_count": null,
            "metadata": {
                "id": "RgNDIo8vGqJV"
            },
            "outputs": [],
            "source": [
                "# for each indicator we will have a dictionary that will contains best model for each training algorithm and its scores\n",
                "best_models = {ind:{} for ind in indicators}\n",
                "\n",
                "# ML Pipeline Models\n",
                "# Set this to False if you want to train new models\n",
                "USE_PRETRAINED_ML_PIPELINE = True\n",
                "\n",
                "# Naive Bayes\n",
                "PRETRAINED_NB_PIPELINE_NAMES = {\n",
                "    'ie': 'nb_ie_modelTypemultinomial_202107031037',\n",
                "    'ns': 'nb_ns_modelTypemultinomial_202107031037',\n",
                "    'tf': 'nb_tf_modelTypemultinomial_202107031037',\n",
                "    'pj': 'nb_pj_modelTypemultinomial_202107031037'\n",
                "}\n",
                "\n",
                "# Linear SVC\n",
                "PRETRAINED_SVC_PIPELINE_NAMES = {\n",
                "    'ie': 'svc_ie_maxIter10_regParam0.0001_202107031050',\n",
                "    'ns': 'svc_ns_maxIter10_regParam0.0001_202107031102',\n",
                "    'tf': 'svc_tf_maxIter10_regParam0.0001_202107031114',\n",
                "    'pj': 'svc_pj_maxIter10_regParam0.0001_202107031126'\n",
                "}\n",
                "# Logistic Regression\n",
                "PRETRAINED_LR_PIPELINE_NAMES = {\n",
                "    'ie': 'lr_ie_maxIter10_regParam0.0001_elasticNetParam0.0_202107031200',\n",
                "    'ns': 'lr_ns_maxIter10_regParam0.0001_elasticNetParam0.25_202107031215',\n",
                "    'tf': 'lr_tf_maxIter100_regParam0.01_elasticNetParam0.0_202107031229',\n",
                "    'pj': 'lr_pj_maxIter100_regParam0.0001_elasticNetParam0.0_202107031244'\n",
                "}\n",
                "# Neural Network\n",
                "PRETRAINED_NN_PIPELINE_NAMES = {\n",
                "    'ie': 'nn_ie_maxIter100_stepSize0.001_solverl-bfgs_202107040909',\n",
                "    'ns': 'nn_ns_maxIter100_stepSize0.001_solverl-bfgs_202107040933',\n",
                "    'tf': 'nn_tf_maxIter10_stepSize0.03_solverl-bfgs_202107040957',\n",
                "    'pj': 'nn_pj_maxIter100_stepSize0.01_solverl-bfgs_202107041020'\n",
                "}"
            ]
        },
        {
            "cell_type": "markdown",
            "metadata": {
                "id": "lZws0ugHzr_o"
            },
            "source": [
                "## Naive Bayes Classifier\n",
                "For this training algorithm we want to know only if it performs better assuming a **Multinomial** distribution or a **Gaussian**."
            ]
        },
        {
            "cell_type": "code",
            "execution_count": null,
            "metadata": {
                "id": "wyWc-bK31CCp"
            },
            "outputs": [],
            "source": [
                "def nb_model_tuning(df,\n",
                "                    labels,\n",
                "                    kFold=4,\n",
                "                    allowed_indicators=['ie', 'ns', 'tf', 'pj'],\n",
                "                    featuresCol='features',\n",
                "                    saveModel=True):\n",
                "  \n",
                "  \"\"\"\n",
                "  Trains 4 NB classifiers (one for each indicator) using ml_pipeline\n",
                "\n",
                "  It returns 4 best best NB classifiers found after tuning phase\n",
                "\n",
                "  Parameters\n",
                "  ----------\n",
                "  df : pyspark.sql.DataFrame\n",
                "      Dataframe to use for training\n",
                "  labels : List[List[str]]\n",
                "      List of list of target labels\n",
                "  kFold : int, optional\n",
                "      K parameter for K-Fold, i.e. num. of folds (Default value is '4')\n",
                "  allowed_indicators : List[str], optional\n",
                "      List of indicators on which we want to train a model (Default value is a list containing all 4 indicators)\n",
                "  featuresCol : str, optional\n",
                "      Column where features are listed (Default value is 'features')\n",
                "  saveModel : bool, optional\n",
                "      if True save best models found (Default value is True)\n",
                "  \"\"\"\n",
                "\n",
                "  from pyspark.ml.tuning import ParamGridBuilder, CrossValidatorModel\n",
                "  from pyspark.ml.classification import NaiveBayes\n",
                "  from pyspark.ml.evaluation import MulticlassClassificationEvaluator\n",
                "\n",
                "  # init. an empty dictionary\n",
                "  best_nb_models = dict()\n",
                "\n",
                "  # for each indicator\n",
                "  for i, ind in enumerate(allowed_indicators):\n",
                "    print(f'Finding best NB model for {ind} type indicator..\\n')\n",
                "    nb_classifier = NaiveBayes(probabilityCol=f'{ind}_p')\n",
                "    nb_param_grid = ParamGridBuilder().addGrid(nb_classifier.modelType, ['multinomial', 'gaussian']).build()\n",
                "    nb_evaluator = MulticlassClassificationEvaluator()\n",
                "    # Cross validation\n",
                "    cv_model = ml_pipeline(df,\n",
                "                           nb_classifier,\n",
                "                           nb_param_grid,\n",
                "                           nb_evaluator,\n",
                "                           labels[i],\n",
                "                           featuresCol=featuresCol,\n",
                "                           indexedTargetCol=f'idx_{ind}', \n",
                "                           predictionCol=f'{ind}_pred',\n",
                "                           rawPredictionCol=f'{ind}_raw_pred',\n",
                "                           labeledPredictionCol=f'{ind}_labeled_pred',\n",
                "                           kFold=kFold)\n",
                "    # Pick best model for that indicator\n",
                "    best_nb_models[ind] = cv_model.bestModel    \n",
                "    # save it\n",
                "    if saveModel:\n",
                "      save_model(best_nb_models[ind], f'nb_{ind}_modelType{best_nb_models[ind].stages[0].getModelType()}')\n",
                "\n",
                "    print(f'Best nb {ind} model has type {best_nb_models[ind].stages[0].getModelType()}\\n')\n",
                "\n",
                "  return best_nb_models"
            ]
        },
        {
            "cell_type": "code",
            "execution_count": null,
            "metadata": {
                "colab": {
                    "base_uri": "https://localhost:8080/"
                },
                "executionInfo": {
                    "elapsed": 7925,
                    "status": "ok",
                    "timestamp": 1625736480773,
                    "user": {
                        "displayName": "Eduardo Rinaldi",
                        "photoUrl": "https://lh3.googleusercontent.com/a-/AOh14GjICFFYF_oZkC-VSi_Sb89jksqxq1BKOyZxbsKfPA=s64",
                        "userId": "00823218678353006274"
                    },
                    "user_tz": -120
                },
                "id": "h_TWnkZv6k4K",
                "outputId": "8eba287d-8467-462c-b49b-42dbcf97a907"
            },
            "outputs": [
                {
                    "name": "stdout",
                    "output_type": "stream",
                    "text": [
                        "Loading pretrained NB pipeline\n",
                        "{'ie': {'nb': (PipelineModel_d63f43b02ed4,\n",
                        "               {'accuracy': 0.7374327799859715,\n",
                        "                'f1': 0.7414680295332422,\n",
                        "                'precisionByLabel': 0.8324890239783856,\n",
                        "                'recallByLabel': 0.7972186287192755,\n",
                        "                'weightedPrecision': 0.7468950656721464,\n",
                        "                'weightedRecall': 0.7374327799859715})},\n",
                        " 'ns': {'nb': (PipelineModel_ed93fdb8001d,\n",
                        "               {'accuracy': 0.7591769932195465,\n",
                        "                'f1': 0.7747686011089902,\n",
                        "                'precisionByLabel': 0.8929260450160772,\n",
                        "                'recallByLabel': 0.7993667242371906,\n",
                        "                'weightedPrecision': 0.8008947780129801,\n",
                        "                'weightedRecall': 0.7591769932195465})},\n",
                        " 'pj': {'nb': (PipelineModel_58af196f2fba,\n",
                        "               {'accuracy': 0.6679915828851999,\n",
                        "                'f1': 0.6623810712642277,\n",
                        "                'precisionByLabel': 0.7024442082890542,\n",
                        "                'recallByLabel': 0.7737026921576278,\n",
                        "                'weightedPrecision': 0.6618308658253635,\n",
                        "                'weightedRecall': 0.6679915828851999})},\n",
                        " 'tf': {'nb': (PipelineModel_1f0328671510,\n",
                        "               {'accuracy': 0.734860883797054,\n",
                        "                'f1': 0.7338614509076911,\n",
                        "                'precisionByLabel': 0.7839572192513369,\n",
                        "                'recallByLabel': 0.6675774134790529,\n",
                        "                'weightedPrecision': 0.7415104082499399,\n",
                        "                'weightedRecall': 0.734860883797054})}}\n"
                    ]
                }
            ],
            "source": [
                "# Pretrained NB models\n",
                "if USE_PRETRAINED_ML_PIPELINE:\n",
                "  print(\"Loading pretrained NB pipeline\")\n",
                "  tmp = {ind: PipelineModel.load(PRETRAINED_MODELS_PATH+name) for ind, name in PRETRAINED_NB_PIPELINE_NAMES.items()}\n",
                "else:\n",
                "  # Find new model\n",
                "  tmp = nb_model_tuning(final_train_df, labels, featuresCol='idf_features')\n",
                "\n",
                "for ind in indicators:\n",
                "  best_models[ind]['nb'] = (tmp[ind], evaluate_model(tmp[ind], final_test_df, predictionCol=f'{ind}_pred', labelCol=f'idx_{ind}'))\n",
                "\n",
                "pprint(best_models)"
            ]
        },
        {
            "attachments": {},
            "cell_type": "markdown",
            "metadata": {
                "id": "7L8Xk4TRzyDY"
            },
            "source": [
                "## Linear SVC\n",
                "Find best:\n",
                "\n",
                "* `maxIter`: max number of iterations\n",
                "* `regParam`: regularization parameter for L2"
            ]
        },
        {
            "cell_type": "code",
            "execution_count": null,
            "metadata": {
                "id": "gohB-sSdATol"
            },
            "outputs": [],
            "source": [
                "def svc_model_tuning(df,\n",
                "                     labels,\n",
                "                     kFold=4,\n",
                "                     allowed_indicators=['ie', 'ns', 'tf', 'pj'],\n",
                "                     featuresCol='features',\n",
                "                     saveModel=True):\n",
                "  \n",
                "  \"\"\"\n",
                "  Trains 4 LinearSVC classifiers (one for each indicator) using ml_pipeline\n",
                "\n",
                "  It returns 4 best best LinearSVC classifiers found after tuning phase\n",
                "\n",
                "  Parameters\n",
                "  ----------\n",
                "  df : pyspark.sql.DataFrame\n",
                "      Dataframe to use for training\n",
                "  labels : List[List[str]]\n",
                "      List of list of target labels\n",
                "  kFold : int, optional\n",
                "      K parameter for K-Fold, i.e. num. of folds (Default value is '4')\n",
                "  allowed_indicators : List[str], optional\n",
                "      List of indicators on which we want to train a model (Default value is a list containing all 4 indicators)\n",
                "  featuresCol : str, optional\n",
                "      Column where features are listed (Default value is 'features')\n",
                "  saveModel : bool, optional\n",
                "      if True save best models found (Default value is True)\n",
                "  \"\"\"\n",
                "\n",
                "  from pyspark.ml.tuning import ParamGridBuilder, CrossValidatorModel\n",
                "  from pyspark.ml.classification import LinearSVC\n",
                "  from pyspark.ml.evaluation import MulticlassClassificationEvaluator\n",
                "\n",
                "  # init. empty dictionary, this will contain best model for each indicator\n",
                "  best_svc_models = dict()\n",
                "\n",
                "  # for each indicator\n",
                "  for i, ind in enumerate(allowed_indicators):\n",
                "    print(f'Finding best SVC model for {ind} type indicator..\\n')\n",
                "    svc_classifier = LinearSVC()\n",
                "    svc_param_grid = ParamGridBuilder().addGrid(svc_classifier.maxIter, [10, 100]) \\\n",
                "    .addGrid(svc_classifier.regParam, [1, 0.5, 0.1, 0.01, 0.001, 0.0001]).build()\n",
                "    \n",
                "    svc_evaluator = MulticlassClassificationEvaluator()\n",
                "    # Cross validation\n",
                "    cv_model = ml_pipeline(df,\n",
                "                           svc_classifier,\n",
                "                           svc_param_grid,\n",
                "                           svc_evaluator,\n",
                "                           labels[i],\n",
                "                           featuresCol=featuresCol,\n",
                "                           indexedTargetCol=f'idx_{ind}',\n",
                "                           predictionCol=f'{ind}_pred',\n",
                "                           rawPredictionCol=f'{ind}_raw_pred',\n",
                "                           labeledPredictionCol=f'{ind}_labeled_pred',\n",
                "                           kFold=kFold)\n",
                "    # Pick best model for that indicator\n",
                "    best_svc_models[ind] = cv_model.bestModel\n",
                "    # Save it\n",
                "    if saveModel:\n",
                "      save_model(best_svc_models[ind], f'svc_{ind}_maxIter{best_svc_models[ind].stages[0].getMaxIter()}_regParam{best_svc_models[ind].stages[0].getRegParam()}')\n",
                "    \n",
                "    print(f'Best svc {ind} model has parameters:\\n\\t - maxIter: {best_svc_models[ind].stages[0].getMaxIter()}\\n\\t - regParam: {best_svc_models[ind].stages[0].getRegParam()}\\n')\n",
                "  \n",
                "  return best_svc_models"
            ]
        },
        {
            "cell_type": "code",
            "execution_count": null,
            "metadata": {
                "colab": {
                    "base_uri": "https://localhost:8080/"
                },
                "executionInfo": {
                    "elapsed": 7337,
                    "status": "ok",
                    "timestamp": 1625736489022,
                    "user": {
                        "displayName": "Eduardo Rinaldi",
                        "photoUrl": "https://lh3.googleusercontent.com/a-/AOh14GjICFFYF_oZkC-VSi_Sb89jksqxq1BKOyZxbsKfPA=s64",
                        "userId": "00823218678353006274"
                    },
                    "user_tz": -120
                },
                "id": "68tcYgXyC0VC",
                "outputId": "9d8f4eee-2007-46c9-87b3-4f4e2b190cad"
            },
            "outputs": [
                {
                    "name": "stdout",
                    "output_type": "stream",
                    "text": [
                        "Loading pretrained SVC pipeline\n",
                        "{'ie': {'nb': (PipelineModel_d63f43b02ed4,\n",
                        "               {'accuracy': 0.7374327799859715,\n",
                        "                'f1': 0.7414680295332422,\n",
                        "                'precisionByLabel': 0.8324890239783856,\n",
                        "                'recallByLabel': 0.7972186287192755,\n",
                        "                'weightedPrecision': 0.7468950656721464,\n",
                        "                'weightedRecall': 0.7374327799859715}),\n",
                        "        'svc': (PipelineModel_59bff8ef4426,\n",
                        "                {'accuracy': 0.7271451952303016,\n",
                        "                 'f1': 0.6201393170762186,\n",
                        "                 'precisionByLabel': 0.726951190756897,\n",
                        "                 'recallByLabel': 0.9970892626131953,\n",
                        "                 'weightedPrecision': 0.7333371713398003,\n",
                        "                 'weightedRecall': 0.7271451952303016})},\n",
                        " 'ns': {'nb': (PipelineModel_ed93fdb8001d,\n",
                        "               {'accuracy': 0.7591769932195465,\n",
                        "                'f1': 0.7747686011089902,\n",
                        "                'precisionByLabel': 0.8929260450160772,\n",
                        "                'recallByLabel': 0.7993667242371906,\n",
                        "                'weightedPrecision': 0.8008947780129801,\n",
                        "                'weightedRecall': 0.7591769932195465}),\n",
                        "        'svc': (PipelineModel_cef483fee89b,\n",
                        "                {'accuracy': 0.8134206219312602,\n",
                        "                 'f1': 0.7326276753381533,\n",
                        "                 'precisionByLabel': 0.8137898686679175,\n",
                        "                 'recallByLabel': 0.9988485895221646,\n",
                        "                 'weightedPrecision': 0.7909817817805523,\n",
                        "                 'weightedRecall': 0.8134206219312602})},\n",
                        " 'pj': {'nb': (PipelineModel_58af196f2fba,\n",
                        "               {'accuracy': 0.6679915828851999,\n",
                        "                'f1': 0.6623810712642277,\n",
                        "                'precisionByLabel': 0.7024442082890542,\n",
                        "                'recallByLabel': 0.7737026921576278,\n",
                        "                'weightedPrecision': 0.6618308658253635,\n",
                        "                'weightedRecall': 0.6679915828851999}),\n",
                        "        'svc': (PipelineModel_129dd968e4f7,\n",
                        "                {'accuracy': 0.6226326864624737,\n",
                        "                 'f1': 0.5179402161591437,\n",
                        "                 'precisionByLabel': 0.6166707646914187,\n",
                        "                 'recallByLabel': 0.9785407725321889,\n",
                        "                 'weightedPrecision': 0.6653314023846959,\n",
                        "                 'weightedRecall': 0.6226326864624737})},\n",
                        " 'tf': {'nb': (PipelineModel_1f0328671510,\n",
                        "               {'accuracy': 0.734860883797054,\n",
                        "                'f1': 0.7338614509076911,\n",
                        "                'precisionByLabel': 0.7839572192513369,\n",
                        "                'recallByLabel': 0.6675774134790529,\n",
                        "                'weightedPrecision': 0.7415104082499399,\n",
                        "                'weightedRecall': 0.734860883797054}),\n",
                        "        'svc': (PipelineModel_af4274f256f5,\n",
                        "                {'accuracy': 0.7229366378302549,\n",
                        "                 'f1': 0.7228785036312215,\n",
                        "                 'precisionByLabel': 0.7273954116059379,\n",
                        "                 'recallByLabel': 0.7363387978142076,\n",
                        "                 'weightedPrecision': 0.7228780268799415,\n",
                        "                 'weightedRecall': 0.7229366378302549})}}\n"
                    ]
                }
            ],
            "source": [
                "# Pretrained SVC models\n",
                "if USE_PRETRAINED_ML_PIPELINE:\n",
                "  print(\"Loading pretrained SVC pipeline\")\n",
                "  tmp = {ind: PipelineModel.load(PRETRAINED_MODELS_PATH+name) for ind, name in PRETRAINED_SVC_PIPELINE_NAMES.items()}\n",
                "else:\n",
                "  # find new best models\n",
                "  tmp = svc_model_tuning(final_train_df, labels, featuresCol='pca_features')\n",
                "\n",
                "for ind in indicators:\n",
                "  best_models[ind]['svc'] = (tmp[ind], evaluate_model(tmp[ind], final_test_df, predictionCol=f'{ind}_pred', labelCol=f'idx_{ind}'))\n",
                "\n",
                "pprint(best_models)"
            ]
        },
        {
            "attachments": {},
            "cell_type": "markdown",
            "metadata": {
                "id": "JwIRQJB0z6Xk"
            },
            "source": [
                "## Logistic Regression\n",
                "\n",
                "* `maxIter`: max number of iterations\n",
                "* `regParam`: regularization parameter for L1 and L2\n",
                "* `elasticNetParam`: value used for weighting regularization terms importance (0 use only L2, 1 use only L1)"
            ]
        },
        {
            "cell_type": "code",
            "execution_count": null,
            "metadata": {
                "id": "2VwzsZoLIed5"
            },
            "outputs": [],
            "source": [
                "def lr_model_tuning(df,\n",
                "                    labels,\n",
                "                    kFold=4,\n",
                "                    allowed_indicators=['ie', 'ns', 'tf', 'pj'],\n",
                "                    featuresCol='features',\n",
                "                    saveModel=True):\n",
                "  \n",
                "  \"\"\"\n",
                "  Trains 4 LogisticRegression classifiers (one for each indicator) using ml_pipeline\n",
                "\n",
                "  It returns 4 best best LogisticRegression classifiers found after tuning phase\n",
                "\n",
                "  Parameters\n",
                "  ----------\n",
                "  df : pyspark.sql.DataFrame\n",
                "      Dataframe to use for training\n",
                "  labels : List[List[str]]\n",
                "      List of list of target labels\n",
                "  kFold : int, optional\n",
                "      K parameter for K-Fold, i.e. num. of folds (Default value is '4')\n",
                "  allowed_indicators : List[str], optional\n",
                "      List of indicators on which we want to train a model (Default value is a list containing all 4 indicators)\n",
                "  featuresCol : str, optional\n",
                "      Column where features are listed (Default value is 'features')\n",
                "  saveModel : bool, optional\n",
                "      if True save best models found (Default value is True)\n",
                "  \"\"\"\n",
                "\n",
                "  from pyspark.ml.tuning import ParamGridBuilder, CrossValidatorModel\n",
                "  from pyspark.ml.classification import LogisticRegression\n",
                "  from pyspark.ml.evaluation import MulticlassClassificationEvaluator\n",
                "\n",
                "  # init. an empty dictionary, this will contain best model found for each indicator\n",
                "  best_lr_models = dict()\n",
                "  for i, ind in enumerate(allowed_indicators):\n",
                "    print(f'Finding best LR model for {ind} type indicator..\\n')\n",
                "    lr_classifier = LogisticRegression(probabilityCol=f'{ind}_p')\n",
                "    lr_param_grid = ParamGridBuilder().addGrid(lr_classifier.maxIter, [10, 100]) \\\n",
                "    .addGrid(lr_classifier.regParam, [0.05, 0.01, 0.001, 0.0005, 0.0001]) \\\n",
                "    .addGrid(lr_classifier.elasticNetParam, [0.0, 0.25, 0.5]).build()\n",
                "    \n",
                "    lr_evaluator = MulticlassClassificationEvaluator()\n",
                "    # Cross validation\n",
                "    cv_model = ml_pipeline(df,\n",
                "                           lr_classifier,\n",
                "                           lr_param_grid,\n",
                "                           lr_evaluator,\n",
                "                           labels[i],\n",
                "                           featuresCol=featuresCol,\n",
                "                           indexedTargetCol=f'idx_{ind}',\n",
                "                           predictionCol=f'{ind}_pred',\n",
                "                           rawPredictionCol=f'{ind}_raw_pred',\n",
                "                           labeledPredictionCol=f'{ind}_labeled_pred',\n",
                "                           kFold=kFold)\n",
                "\n",
                "    # Pick best model found\n",
                "    best_lr_models[ind] = cv_model.bestModel\n",
                "    # Save model\n",
                "    if saveModel:\n",
                "      save_model(best_lr_models[ind], f'cv_lr_{ind}_maxIter{best_lr_models[ind].stages[0].getMaxIter()}_regParam{best_lr_models[ind].stages[0].getRegParam()}_elasticNetParam{best_lr_models[ind].stages[0].getElasticNetParam()}')\n",
                "      \n",
                "    print(f'Best LR {ind} model has parameters:\\n\\t - maxIter: {best_lr_models[ind].stages[0].getMaxIter()}\\n\\t - regParam: {best_lr_models[ind].stages[0].getRegParam()}\\n\\t - elasticNetParam: {best_lr_models[ind].stages[0].getElasticNetParam()}\\n')\n",
                "  return best_lr_models"
            ]
        },
        {
            "cell_type": "code",
            "execution_count": null,
            "metadata": {
                "colab": {
                    "base_uri": "https://localhost:8080/"
                },
                "executionInfo": {
                    "elapsed": 7616,
                    "status": "ok",
                    "timestamp": 1625736496598,
                    "user": {
                        "displayName": "Eduardo Rinaldi",
                        "photoUrl": "https://lh3.googleusercontent.com/a-/AOh14GjICFFYF_oZkC-VSi_Sb89jksqxq1BKOyZxbsKfPA=s64",
                        "userId": "00823218678353006274"
                    },
                    "user_tz": -120
                },
                "id": "S2Q4VIRKDLu8",
                "outputId": "7ff8a470-a122-436f-ac1c-fa15fd3a33b6"
            },
            "outputs": [
                {
                    "name": "stdout",
                    "output_type": "stream",
                    "text": [
                        "Loading pretrained LR pipeline\n",
                        "{'ie': {'lr': (PipelineModel_5b7ccb054f11,\n",
                        "               {'accuracy': 0.7299509001636661,\n",
                        "                'f1': 0.6545588764751447,\n",
                        "                'precisionByLabel': 0.7383706620723604,\n",
                        "                'recallByLabel': 0.9702457956015524,\n",
                        "                'weightedPrecision': 0.6917472141200116,\n",
                        "                'weightedRecall': 0.7299509001636661}),\n",
                        "        'nb': (PipelineModel_d63f43b02ed4,\n",
                        "               {'accuracy': 0.7374327799859715,\n",
                        "                'f1': 0.7414680295332422,\n",
                        "                'precisionByLabel': 0.8324890239783856,\n",
                        "                'recallByLabel': 0.7972186287192755,\n",
                        "                'weightedPrecision': 0.7468950656721464,\n",
                        "                'weightedRecall': 0.7374327799859715}),\n",
                        "        'svc': (PipelineModel_59bff8ef4426,\n",
                        "                {'accuracy': 0.7271451952303016,\n",
                        "                 'f1': 0.6201393170762186,\n",
                        "                 'precisionByLabel': 0.726951190756897,\n",
                        "                 'recallByLabel': 0.9970892626131953,\n",
                        "                 'weightedPrecision': 0.7333371713398003,\n",
                        "                 'weightedRecall': 0.7271451952303016})},\n",
                        " 'ns': {'lr': (PipelineModel_797bed824b69,\n",
                        "               {'accuracy': 0.8099134907645545,\n",
                        "                'f1': 0.7450046819564865,\n",
                        "                'precisionByLabel': 0.8186826347305389,\n",
                        "                'recallByLabel': 0.9838802533103052,\n",
                        "                'weightedPrecision': 0.7496471189983289,\n",
                        "                'weightedRecall': 0.8099134907645545}),\n",
                        "        'nb': (PipelineModel_ed93fdb8001d,\n",
                        "               {'accuracy': 0.7591769932195465,\n",
                        "                'f1': 0.7747686011089902,\n",
                        "                'precisionByLabel': 0.8929260450160772,\n",
                        "                'recallByLabel': 0.7993667242371906,\n",
                        "                'weightedPrecision': 0.8008947780129801,\n",
                        "                'weightedRecall': 0.7591769932195465}),\n",
                        "        'svc': (PipelineModel_cef483fee89b,\n",
                        "                {'accuracy': 0.8134206219312602,\n",
                        "                 'f1': 0.7326276753381533,\n",
                        "                 'precisionByLabel': 0.8137898686679175,\n",
                        "                 'recallByLabel': 0.9988485895221646,\n",
                        "                 'weightedPrecision': 0.7909817817805523,\n",
                        "                 'weightedRecall': 0.8134206219312602})},\n",
                        " 'pj': {'lr': (PipelineModel_848a3bad8cbc,\n",
                        "               {'accuracy': 0.6415711947626841,\n",
                        "                'f1': 0.57606844278573,\n",
                        "                'precisionByLabel': 0.6358122362869199,\n",
                        "                'recallByLabel': 0.9406944986344128,\n",
                        "                'weightedPrecision': 0.6561645142816828,\n",
                        "                'weightedRecall': 0.6415711947626842}),\n",
                        "        'nb': (PipelineModel_58af196f2fba,\n",
                        "               {'accuracy': 0.6679915828851999,\n",
                        "                'f1': 0.6623810712642277,\n",
                        "                'precisionByLabel': 0.7024442082890542,\n",
                        "                'recallByLabel': 0.7737026921576278,\n",
                        "                'weightedPrecision': 0.6618308658253635,\n",
                        "                'weightedRecall': 0.6679915828851999}),\n",
                        "        'svc': (PipelineModel_129dd968e4f7,\n",
                        "                {'accuracy': 0.6226326864624737,\n",
                        "                 'f1': 0.5179402161591437,\n",
                        "                 'precisionByLabel': 0.6166707646914187,\n",
                        "                 'recallByLabel': 0.9785407725321889,\n",
                        "                 'weightedPrecision': 0.6653314023846959,\n",
                        "                 'weightedRecall': 0.6226326864624737})},\n",
                        " 'tf': {'lr': (PipelineModel_a522529c3398,\n",
                        "               {'accuracy': 0.723638064063596,\n",
                        "                'f1': 0.7234572631067326,\n",
                        "                'precisionByLabel': 0.7241379310344828,\n",
                        "                'recallByLabel': 0.7459016393442623,\n",
                        "                'weightedPrecision': 0.7236216912496611,\n",
                        "                'weightedRecall': 0.723638064063596}),\n",
                        "        'nb': (PipelineModel_1f0328671510,\n",
                        "               {'accuracy': 0.734860883797054,\n",
                        "                'f1': 0.7338614509076911,\n",
                        "                'precisionByLabel': 0.7839572192513369,\n",
                        "                'recallByLabel': 0.6675774134790529,\n",
                        "                'weightedPrecision': 0.7415104082499399,\n",
                        "                'weightedRecall': 0.734860883797054}),\n",
                        "        'svc': (PipelineModel_af4274f256f5,\n",
                        "                {'accuracy': 0.7229366378302549,\n",
                        "                 'f1': 0.7228785036312215,\n",
                        "                 'precisionByLabel': 0.7273954116059379,\n",
                        "                 'recallByLabel': 0.7363387978142076,\n",
                        "                 'weightedPrecision': 0.7228780268799415,\n",
                        "                 'weightedRecall': 0.7229366378302549})}}\n"
                    ]
                }
            ],
            "source": [
                "# Pretrained LogisticRegression models\n",
                "if USE_PRETRAINED_ML_PIPELINE:\n",
                "  print(\"Loading pretrained LR pipeline\")\n",
                "  tmp = {ind: PipelineModel.load(PRETRAINED_MODELS_PATH+name) for ind, name in PRETRAINED_LR_PIPELINE_NAMES.items()}\n",
                "else:\n",
                "  # Find new models\n",
                "  tmp = lr_model_tuning(final_train_df, labels, featuresCol='pca_features')\n",
                "\n",
                "for ind in indicators:\n",
                "  best_models[ind]['lr'] = (tmp[ind], evaluate_model(tmp[ind], final_test_df, predictionCol=f'{ind}_pred', labelCol=f'idx_{ind}'))\n",
                "\n",
                "pprint(best_models)"
            ]
        },
        {
            "attachments": {},
            "cell_type": "markdown",
            "metadata": {
                "id": "8D3PzgW4z-V3"
            },
            "source": [
                "## Neural Network\n",
                "\n",
                "* `maxIter`: max number of iterations\n",
                "* `stepSize`: learning rate\n",
                "* `solver`: solver algorithm for optimization\n",
                "* `layers`: defines NN structure"
            ]
        },
        {
            "cell_type": "code",
            "execution_count": null,
            "metadata": {
                "id": "03yFmRqU6-2H"
            },
            "outputs": [],
            "source": [
                "def nn_model_tuning(df,\n",
                "                    labels,\n",
                "                    kFold=4,\n",
                "                    allowed_indicators=['ie', 'ns', 'tf', 'pj'],\n",
                "                    featuresCol='features',\n",
                "                    inputLayerSize=128,\n",
                "                    saveModel=True):\n",
                "  \"\"\"\n",
                "  Trains 4 Neural networks (one for each indicator) using ml_pipeline\n",
                "\n",
                "  It returns 4 best best NN found after tuning phase\n",
                "\n",
                "  Parameters\n",
                "  ----------\n",
                "  df : pyspark.sql.DataFrame\n",
                "      Dataframe to use for training\n",
                "  labels : List[List[str]]\n",
                "      List of list of target labels\n",
                "  kFold : int, optional\n",
                "      K parameter for K-Fold, i.e. num. of folds (Default value is '4')\n",
                "  allowed_indicators : List[str], optional\n",
                "      List of indicators on which we want to train a model (Default value is a list containing all 4 indicators)\n",
                "  featuresCol : str, optional\n",
                "      Column where features are listed (Default value is 'features')\n",
                "  inputLayerSize : int, optional\n",
                "      Number of input features (Default value is '128')\n",
                "  saveModel : bool, optional\n",
                "      if True save best models found (Default value is True)\n",
                "  \"\"\"\n",
                "\n",
                "  from pyspark.ml.tuning import ParamGridBuilder\n",
                "  from pyspark.ml.classification import MultilayerPerceptronClassifier\n",
                "  from pyspark.ml.tuning import CrossValidatorModel\n",
                "  from pyspark.ml.evaluation import MulticlassClassificationEvaluator\n",
                "\n",
                "  # Layers to tune\n",
                "  NN_LAYERS = [\n",
                "               [inputLayerSize, 32, 16, 2],\n",
                "               [inputLayerSize, inputLayerSize*2, inputLayerSize*2, inputLayerSize, 32, 16, 2],\n",
                "               ]\n",
                "\n",
                "  # Init. empty dictionary, this will contain best model for each indicator\n",
                "  best_nn_models = dict()\n",
                "  for i, ind in enumerate(allowed_indicators):\n",
                "    print(f'Finding best NN model for {ind} type indicator..\\n')\n",
                "    nn_classifier = MultilayerPerceptronClassifier(probabilityCol=f'{ind}_p')\n",
                "    nn_param_grid = ParamGridBuilder().addGrid(nn_classifier.maxIter, [10, 100]) \\\n",
                "    .addGrid(nn_classifier.stepSize, [0.03, 0.01, 0.001]) \\\n",
                "    .addGrid(nn_classifier.solver, ['gd', 'l-bfgs']) \\\n",
                "    .addGrid(nn_classifier.layers, NN_LAYERS).build()\n",
                "    \n",
                "    nn_evaluator = MulticlassClassificationEvaluator()\n",
                "    # Cross validation\n",
                "    cv_model = ml_pipeline(df,\n",
                "                           nn_classifier,\n",
                "                           nn_param_grid,\n",
                "                           nn_evaluator,\n",
                "                           labels[i],\n",
                "                           featuresCol=featuresCol,\n",
                "                           indexedTargetCol=f'idx_{ind}',\n",
                "                           predictionCol=f'{ind}_pred',\n",
                "                           rawPredictionCol=f'{ind}_raw_pred',\n",
                "                           labeledPredictionCol=f'{ind}_labeled_pred',\n",
                "                           kFold=kFold)\n",
                "\n",
                "    # Pick best model\n",
                "    best_nn_models[ind] = cv_model.bestModel\n",
                "    # Save it\n",
                "    if saveModel:\n",
                "      save_model(best_nn_models[ind], f'nn_{ind}_maxIter{best_nn_models[ind].stages[0].getMaxIter()}_stepSize{best_nn_models[ind].stages[0].getStepSize()}_solver{best_nn_models[ind].stages[0].getSolver()}')\n",
                "    \n",
                "    print(f'Best NN {ind} model has parameters:\\n\\t'+ \\\n",
                "        f' - maxIter: {best_nn_models[ind].stages[0].getMaxIter()}\\n\\t'+ \\\n",
                "        f' - stepSize: {best_nn_models[ind].stages[0].getStepSize()}\\n\\t'+ \\\n",
                "        f' - solver: {best_nn_models[ind].stages[0].getSolver()}\\n\\t'+ \\\n",
                "        f' - layers: {best_nn_models[ind].stages[0].getLayers()}\\n')\n",
                "  return best_nn_models"
            ]
        },
        {
            "cell_type": "code",
            "execution_count": null,
            "metadata": {
                "colab": {
                    "base_uri": "https://localhost:8080/"
                },
                "executionInfo": {
                    "elapsed": 10826,
                    "status": "ok",
                    "timestamp": 1625736512017,
                    "user": {
                        "displayName": "Eduardo Rinaldi",
                        "photoUrl": "https://lh3.googleusercontent.com/a-/AOh14GjICFFYF_oZkC-VSi_Sb89jksqxq1BKOyZxbsKfPA=s64",
                        "userId": "00823218678353006274"
                    },
                    "user_tz": -120
                },
                "id": "rLacnKQL_yGR",
                "outputId": "e5af19cb-0848-431b-c775-73443fb6a342"
            },
            "outputs": [
                {
                    "name": "stdout",
                    "output_type": "stream",
                    "text": [
                        "Loading pretrained NN pipeline\n",
                        "{'ie': {'lr': (PipelineModel_5b7ccb054f11,\n",
                        "               {'accuracy': 0.7299509001636661,\n",
                        "                'f1': 0.6545588764751447,\n",
                        "                'precisionByLabel': 0.7383706620723604,\n",
                        "                'recallByLabel': 0.9702457956015524,\n",
                        "                'weightedPrecision': 0.6917472141200116,\n",
                        "                'weightedRecall': 0.7299509001636661}),\n",
                        "        'nb': (PipelineModel_d63f43b02ed4,\n",
                        "               {'accuracy': 0.7374327799859715,\n",
                        "                'f1': 0.7414680295332422,\n",
                        "                'precisionByLabel': 0.8324890239783856,\n",
                        "                'recallByLabel': 0.7972186287192755,\n",
                        "                'weightedPrecision': 0.7468950656721464,\n",
                        "                'weightedRecall': 0.7374327799859715}),\n",
                        "        'nn': (PipelineModel_a968a6bb2050,\n",
                        "               {'accuracy': 0.7601122281973346,\n",
                        "                'f1': 0.7357017944485573,\n",
                        "                'precisionByLabel': 0.7859911406423035,\n",
                        "                'recallByLabel': 0.9181759379042691,\n",
                        "                'weightedPrecision': 0.7398760861351035,\n",
                        "                'weightedRecall': 0.7601122281973346}),\n",
                        "        'svc': (PipelineModel_59bff8ef4426,\n",
                        "                {'accuracy': 0.7271451952303016,\n",
                        "                 'f1': 0.6201393170762186,\n",
                        "                 'precisionByLabel': 0.726951190756897,\n",
                        "                 'recallByLabel': 0.9970892626131953,\n",
                        "                 'weightedPrecision': 0.7333371713398003,\n",
                        "                 'weightedRecall': 0.7271451952303016})},\n",
                        " 'ns': {'lr': (PipelineModel_797bed824b69,\n",
                        "               {'accuracy': 0.8099134907645545,\n",
                        "                'f1': 0.7450046819564865,\n",
                        "                'precisionByLabel': 0.8186826347305389,\n",
                        "                'recallByLabel': 0.9838802533103052,\n",
                        "                'weightedPrecision': 0.7496471189983289,\n",
                        "                'weightedRecall': 0.8099134907645545}),\n",
                        "        'nb': (PipelineModel_ed93fdb8001d,\n",
                        "               {'accuracy': 0.7591769932195465,\n",
                        "                'f1': 0.7747686011089902,\n",
                        "                'precisionByLabel': 0.8929260450160772,\n",
                        "                'recallByLabel': 0.7993667242371906,\n",
                        "                'weightedPrecision': 0.8008947780129801,\n",
                        "                'weightedRecall': 0.7591769932195465}),\n",
                        "        'nn': (PipelineModel_56434233d098,\n",
                        "               {'accuracy': 0.8470890811316343,\n",
                        "                'f1': 0.8314306227551886,\n",
                        "                'precisionByLabel': 0.871639430680021,\n",
                        "                'recallByLabel': 0.9519286125503742,\n",
                        "                'weightedPrecision': 0.830823839194815,\n",
                        "                'weightedRecall': 0.8470890811316343}),\n",
                        "        'svc': (PipelineModel_cef483fee89b,\n",
                        "                {'accuracy': 0.8134206219312602,\n",
                        "                 'f1': 0.7326276753381533,\n",
                        "                 'precisionByLabel': 0.8137898686679175,\n",
                        "                 'recallByLabel': 0.9988485895221646,\n",
                        "                 'weightedPrecision': 0.7909817817805523,\n",
                        "                 'weightedRecall': 0.8134206219312602})},\n",
                        " 'pj': {'lr': (PipelineModel_848a3bad8cbc,\n",
                        "               {'accuracy': 0.6415711947626841,\n",
                        "                'f1': 0.57606844278573,\n",
                        "                'precisionByLabel': 0.6358122362869199,\n",
                        "                'recallByLabel': 0.9406944986344128,\n",
                        "                'weightedPrecision': 0.6561645142816828,\n",
                        "                'weightedRecall': 0.6415711947626842}),\n",
                        "        'nb': (PipelineModel_58af196f2fba,\n",
                        "               {'accuracy': 0.6679915828851999,\n",
                        "                'f1': 0.6623810712642277,\n",
                        "                'precisionByLabel': 0.7024442082890542,\n",
                        "                'recallByLabel': 0.7737026921576278,\n",
                        "                'weightedPrecision': 0.6618308658253635,\n",
                        "                'weightedRecall': 0.6679915828851999}),\n",
                        "        'nn': (PipelineModel_2cb6410bbcb3,\n",
                        "               {'accuracy': 0.7327566050970307,\n",
                        "                'f1': 0.7301667584790412,\n",
                        "                'precisionByLabel': 0.7602639296187683,\n",
                        "                'recallByLabel': 0.8092079594225517,\n",
                        "                'weightedPrecision': 0.7298265156547539,\n",
                        "                'weightedRecall': 0.7327566050970307}),\n",
                        "        'svc': (PipelineModel_129dd968e4f7,\n",
                        "                {'accuracy': 0.6226326864624737,\n",
                        "                 'f1': 0.5179402161591437,\n",
                        "                 'precisionByLabel': 0.6166707646914187,\n",
                        "                 'recallByLabel': 0.9785407725321889,\n",
                        "                 'weightedPrecision': 0.6653314023846959,\n",
                        "                 'weightedRecall': 0.6226326864624737})},\n",
                        " 'tf': {'lr': (PipelineModel_a522529c3398,\n",
                        "               {'accuracy': 0.723638064063596,\n",
                        "                'f1': 0.7234572631067326,\n",
                        "                'precisionByLabel': 0.7241379310344828,\n",
                        "                'recallByLabel': 0.7459016393442623,\n",
                        "                'weightedPrecision': 0.7236216912496611,\n",
                        "                'weightedRecall': 0.723638064063596}),\n",
                        "        'nb': (PipelineModel_1f0328671510,\n",
                        "               {'accuracy': 0.734860883797054,\n",
                        "                'f1': 0.7338614509076911,\n",
                        "                'precisionByLabel': 0.7839572192513369,\n",
                        "                'recallByLabel': 0.6675774134790529,\n",
                        "                'weightedPrecision': 0.7415104082499399,\n",
                        "                'weightedRecall': 0.734860883797054}),\n",
                        "        'nn': (PipelineModel_10034260e868,\n",
                        "               {'accuracy': 0.6939443535188216,\n",
                        "                'f1': 0.6873932723635329,\n",
                        "                'precisionByLabel': 0.6607466473359913,\n",
                        "                'recallByLabel': 0.8301457194899818,\n",
                        "                'weightedPrecision': 0.7062568097644959,\n",
                        "                'weightedRecall': 0.6939443535188217}),\n",
                        "        'svc': (PipelineModel_af4274f256f5,\n",
                        "                {'accuracy': 0.7229366378302549,\n",
                        "                 'f1': 0.7228785036312215,\n",
                        "                 'precisionByLabel': 0.7273954116059379,\n",
                        "                 'recallByLabel': 0.7363387978142076,\n",
                        "                 'weightedPrecision': 0.7228780268799415,\n",
                        "                 'weightedRecall': 0.7229366378302549})}}\n"
                    ]
                }
            ],
            "source": [
                "# Pretrained NN models\n",
                "if USE_PRETRAINED_ML_PIPELINE:\n",
                "  print(\"Loading pretrained NN pipeline\")\n",
                "  tmp = {ind: PipelineModel.load(PRETRAINED_MODELS_PATH+name) for ind, name in PRETRAINED_NN_PIPELINE_NAMES.items()}\n",
                "else:\n",
                "  # Find new models\n",
                "  tmp = nn_model_tuning(final_train_df, labels, featuresCol='pca_features', inputLayerSize=100)\n",
                "\n",
                "for ind in indicators:\n",
                "  best_models[ind]['nn'] = (tmp[ind], evaluate_model(tmp[ind], final_test_df, predictionCol=f'{ind}_pred', labelCol=f'idx_{ind}'))\n",
                "\n",
                "pprint(best_models)"
            ]
        },
        {
            "attachments": {},
            "cell_type": "markdown",
            "metadata": {
                "id": "xsAMgePlxqpL"
            },
            "source": [
                "## Model selection\n"
            ]
        },
        {
            "cell_type": "code",
            "execution_count": null,
            "metadata": {
                "colab": {
                    "base_uri": "https://localhost:8080/",
                    "height": 621
                },
                "executionInfo": {
                    "elapsed": 1080,
                    "status": "ok",
                    "timestamp": 1625736513091,
                    "user": {
                        "displayName": "Eduardo Rinaldi",
                        "photoUrl": "https://lh3.googleusercontent.com/a-/AOh14GjICFFYF_oZkC-VSi_Sb89jksqxq1BKOyZxbsKfPA=s64",
                        "userId": "00823218678353006274"
                    },
                    "user_tz": -120
                },
                "id": "XPqoUI2K22Me",
                "outputId": "5049498f-4099-4f41-94d1-762c2b74436d"
            },
            "outputs": [
                {
                    "data": {
                        "image/png": "[encoded data removed]",
                        "text/plain": [
                            "<Figure size 1440x720 with 4 Axes>"
                        ]
                    },
                    "metadata": {
                        "needs_background": "light",
                        "tags": []
                    },
                    "output_type": "display_data"
                }
            ],
            "source": [
                "fig, ax = plt.subplots(2, 2, figsize=(20, 10))\n",
                "for ind, subplot in zip(indicators, ax.flatten()):\n",
                "  metrics = ['accuracy','f1', 'weightedPrecision', 'weightedRecall']\n",
                "  pdf = pd.DataFrame({'metric' : metrics})\n",
                "\n",
                "  for model_name, (model, scores) in best_models[ind].items():\n",
                "    pdf[f'{model_name}_score'] = [scores[metric] for metric in metrics]\n",
                "  \n",
                "  pdf.plot.bar(x='metric', rot=0,title=ind, ax=subplot)\n"
            ]
        },
        {
            "attachments": {},
            "cell_type": "markdown",
            "metadata": {
                "id": "7IT7HkkudWs0"
            },
            "source": [
                "For each indicator pick the model performming better according to a certain metric `DISCRIMINANT_METRIC`.\n",
                "\n",
                "use `DISCRIMINANT_METRIC='f1'`"
            ]
        },
        {
            "cell_type": "code",
            "execution_count": null,
            "metadata": {
                "colab": {
                    "base_uri": "https://localhost:8080/"
                },
                "executionInfo": {
                    "elapsed": 17,
                    "status": "ok",
                    "timestamp": 1625736513094,
                    "user": {
                        "displayName": "Eduardo Rinaldi",
                        "photoUrl": "https://lh3.googleusercontent.com/a-/AOh14GjICFFYF_oZkC-VSi_Sb89jksqxq1BKOyZxbsKfPA=s64",
                        "userId": "00823218678353006274"
                    },
                    "user_tz": -120
                },
                "id": "JZ-W-N_rAtFv",
                "outputId": "a57d1c4d-26a9-4d3d-e6ef-54e2f490da54"
            },
            "outputs": [
                {
                    "name": "stdout",
                    "output_type": "stream",
                    "text": [
                        "Model nb score = 0.7414680295332422\n",
                        "Model svc score = 0.6201393170762186\n",
                        "Model lr score = 0.6545588764751447\n",
                        "Model nn score = 0.7357017944485573\n",
                        "Best ie model is nb with f1 score = 0.7414680295332422\n",
                        "\n",
                        "Model nb score = 0.7747686011089902\n",
                        "Model svc score = 0.7326276753381533\n",
                        "Model lr score = 0.7450046819564865\n",
                        "Model nn score = 0.8314306227551886\n",
                        "Best ns model is nn with f1 score = 0.8314306227551886\n",
                        "\n",
                        "Model nb score = 0.7338614509076911\n",
                        "Model svc score = 0.7228785036312215\n",
                        "Model lr score = 0.7234572631067326\n",
                        "Model nn score = 0.6873932723635329\n",
                        "Best tf model is nb with f1 score = 0.7338614509076911\n",
                        "\n",
                        "Model nb score = 0.6623810712642277\n",
                        "Model svc score = 0.5179402161591437\n",
                        "Model lr score = 0.57606844278573\n",
                        "Model nn score = 0.7301667584790412\n",
                        "Best pj model is nn with f1 score = 0.7301667584790412\n",
                        "\n",
                        "{'ie': PipelineModel_d63f43b02ed4,\n",
                        " 'ns': PipelineModel_56434233d098,\n",
                        " 'pj': PipelineModel_2cb6410bbcb3,\n",
                        " 'tf': PipelineModel_1f0328671510}\n"
                    ]
                }
            ],
            "source": [
                "# Metric used for choosing best model\n",
                "DISCRIMINANT_METRIC = 'f1'\n",
                "\n",
                "final_models = dict()\n",
                "# For each indicator find the model with highest score according to DISCRIMINANT_METRIC\n",
                "for ind in indicators:\n",
                "  best_score = 0\n",
                "  best_model_type = -1\n",
                "  for model_type, (model, scores) in best_models[ind].items():\n",
                "    score = scores[DISCRIMINANT_METRIC]\n",
                "    if best_score < score:\n",
                "      best_score = score\n",
                "      best_model_type = model_type\n",
                "    print(f'Model {model_type} score = {score}')\n",
                "  final_models[ind] = best_models[ind][best_model_type][0]\n",
                "  print(f'Best {ind} model is {best_model_type} with {DISCRIMINANT_METRIC} score = {best_score}\\n')\n",
                "  \n",
                "\n",
                "pprint(final_models)"
            ]
        },
        {
            "attachments": {},
            "cell_type": "markdown",
            "metadata": {
                "id": "Td5zCkv3zHSf"
            },
            "source": [
                "## Merge TC - FE - ML Pipelines in one final model"
            ]
        },
        {
            "cell_type": "code",
            "execution_count": null,
            "metadata": {
                "id": "udJYwo4jcpWQ"
            },
            "outputs": [],
            "source": [
                "def merge_models(models, saveMergedModel=False, nameMergedModel='model'):\n",
                "  \"\"\"\n",
                "  Given a list of models as input, returns a new model composed by stages of each\n",
                "  model in models.\n",
                "\n",
                "  Parameters:\n",
                "  -----------\n",
                "  models : List[Model]\n",
                "      List of fitted models to merge\n",
                "  saveMergedModel : bool, optional\n",
                "      If True save the returned model. (Default value is False)\n",
                "  nameMergedModel : str, optional\n",
                "      Custom name when saving model. (Default value is 'model')\n",
                "  \"\"\"\n",
                "  stages = []\n",
                "  for model in models:\n",
                "    stages += model.stages\n",
                "  merged_model = PipelineModel(stages=stages)\n",
                "  # save merged model\n",
                "  if saveMergedModel:\n",
                "    save_model(merged_model, nameMergedModel)\n",
                "  \n",
                "  return merged_model"
            ]
        },
        {
            "cell_type": "markdown",
            "metadata": {
                "id": "5h9xwE6HISse"
            },
            "source": [
                "Two \"final models\" has been saved:\n",
                "1. Stages: `[TC, FE, NB (for ie), NN (for ns), NB (for tf), NN (for pj)]`\n",
                "2. Stages: `[TC, FE, NN (for ie), NN (for ns), SVC (for tf), NN (for pj)]`\n",
                "\n",
                "They reach same scores"
            ]
        },
        {
            "cell_type": "code",
            "execution_count": 7,
            "metadata": {
                "colab": {
                    "base_uri": "https://localhost:8080/"
                },
                "executionInfo": {
                    "elapsed": 20277,
                    "status": "ok",
                    "timestamp": 1625834066320,
                    "user": {
                        "displayName": "Eduardo Rinaldi",
                        "photoUrl": "https://lh3.googleusercontent.com/a-/AOh14GjICFFYF_oZkC-VSi_Sb89jksqxq1BKOyZxbsKfPA=s64",
                        "userId": "00823218678353006274"
                    },
                    "user_tz": -120
                },
                "id": "y5c0gA5Og0pe",
                "outputId": "94e6b714-5c2f-405c-b875-5df2ecc8c1ce"
            },
            "outputs": [
                {
                    "name": "stdout",
                    "output_type": "stream",
                    "text": [
                        "Using a pretrained final model\n",
                        "Final model stages:\n",
                        "[DocumentAssembler_b0c3a8064c23,\n",
                        " REGEX_TOKENIZER_ba10aa4e8655,\n",
                        " NORMALIZER_cb023efa4e30,\n",
                        " LEMMATIZER_c62ad8f355f9,\n",
                        " STOPWORDS_CLEANER_3e62acb2648b,\n",
                        " StopWordsCleaner_0408473c60ee,\n",
                        " Finisher_23a8a231812a,\n",
                        " CountVectorizerModel: uid=CountVectorizer_74311f5a9216, vocabularySize=5305,\n",
                        " IDFModel: uid=IDF_8542f318e886, numDocs=10097, numFeatures=5305,\n",
                        " PCAModel: uid=PCA_0152f2d93653, k=100,\n",
                        " StringIndexerModel: uid=StringIndexer_317a7e640ccc, handleInvalid=error,\n",
                        " StringIndexerModel: uid=StringIndexer_f6c7a2bbee12, handleInvalid=error,\n",
                        " StringIndexerModel: uid=StringIndexer_88a49382b8d1, handleInvalid=error,\n",
                        " StringIndexerModel: uid=StringIndexer_4858f2712183, handleInvalid=error,\n",
                        " NaiveBayesModel: uid=NaiveBayes_4750a1779ba5, modelType=multinomial, numClasses=2, numFeatures=5305,\n",
                        " IndexToString_fa0780ad2a91,\n",
                        " MultilayerPerceptronClassificationModel: uid=MultilayerPerceptronClassifier_9c5d7f70fdcd, numLayers=7, numClasses=2, numFeatures=100,\n",
                        " IndexToString_0102d629fe64,\n",
                        " NaiveBayesModel: uid=NaiveBayes_353186e99a41, modelType=multinomial, numClasses=2, numFeatures=5305,\n",
                        " IndexToString_d8cf6a208f34,\n",
                        " MultilayerPerceptronClassificationModel: uid=MultilayerPerceptronClassifier_aec6b3cd90e3, numLayers=7, numClasses=2, numFeatures=100,\n",
                        " IndexToString_0c185074aa42]\n"
                    ]
                }
            ],
            "source": [
                "# Set this to False for creating a new final pipeline\n",
                "USE_PRETRAINED_FINAL_PIPELINE = True\n",
                "\n",
                "\"\"\"\n",
                "2 final pipelines:\n",
                "  1. [TC, FE, NB (for ie), NN (for ns), NB (for tf), NN (for pj)]\n",
                "  2. [TC, FE, NN (for ie), NN (for ns), SVC (for tf), NN (for pj)]\n",
                "\n",
                "They have pretty much same score\n",
                "\"\"\"\n",
                "\n",
                "# NB-NN-NB-NN\n",
                "PRETRAINED_FINAL_PIPELINE = 'final_pipeline_202107080921'\n",
                "# NN-NN-SVC-NN\n",
                "#PRETRAINED_FINAL_PIPELINE = 'final_pipeline_202107050925'\n",
                "\n",
                "\n",
                "if USE_PRETRAINED_FINAL_PIPELINE:\n",
                "  print('Using a pretrained final model')\n",
                "  final_model = PipelineModel.load(PRETRAINED_MODELS_PATH+PRETRAINED_FINAL_PIPELINE)\n",
                "else:\n",
                "  print('Merging tc/fe/ml pipelines')\n",
                "  final_model = merge_models([tc_pipeline, fe_pipeline] + [final_models[ind] for ind in indicators], saveMergedModel=True, nameMergedModel='final_pipeline')\n",
                "\n",
                "print('Final model stages:')\n",
                "pprint(final_model.stages)"
            ]
        },
        {
            "attachments": {},
            "cell_type": "markdown",
            "metadata": {
                "id": "O4QedXEkOsUH"
            },
            "source": [
                "# Predicting Twitter's users personalities from their posts\n",
                "\"*predicting Twitter's users personalities from their posts*\" using **Twitter API**."
            ]
        },
        {
            "cell_type": "markdown",
            "metadata": {
                "id": "Kfe8uk-ifaRt"
            },
            "source": [
                "## Creating the predictor\n",
                "\n",
                "* `MBTIPredictor`: is responsible to predict personality from a sequence of texts\n",
                "* `TwitterMBTIPredictor`: is responsible to predict personality from user's posts\n",
                "\n"
            ]
        },
        {
            "cell_type": "code",
            "execution_count": 8,
            "metadata": {
                "executionInfo": {
                    "elapsed": 9,
                    "status": "ok",
                    "timestamp": 1625834066321,
                    "user": {
                        "displayName": "Eduardo Rinaldi",
                        "photoUrl": "https://lh3.googleusercontent.com/a-/AOh14GjICFFYF_oZkC-VSi_Sb89jksqxq1BKOyZxbsKfPA=s64",
                        "userId": "00823218678353006274"
                    },
                    "user_tz": -120
                },
                "id": "AFgCA9QrxzAs"
            },
            "outputs": [],
            "source": [
                "class MBTIPredictor:\n",
                "  def __init__(self, model):\n",
                "    \"\"\"\n",
                "    Parameters:\n",
                "    -----------\n",
                "    model : pyspark.ml.PipelineModel\n",
                "        Model to use for predicting personalities\n",
                "    \"\"\"\n",
                "    self.model = model\n",
                "  \n",
                "  def predict(self, *text : str):\n",
                "    \"\"\"\n",
                "    Predict personality associated to the author of each text\n",
                "\n",
                "    It returns a Spark DataFrame containing prediction\n",
                "\n",
                "    Parameters:\n",
                "    -----------\n",
                "    text : *str\n",
                "        Sequence of texts to use for prediction\n",
                "    \"\"\"\n",
                "    text_df = spark.createDataFrame(list(text), StringType()).withColumnRenamed('value', 'post')\n",
                "    return self.model.transform(text_df)\n",
                "  \n",
                "  def predict(self, data : dict, textCol='post'):\n",
                "    \"\"\"\n",
                "    Predict personality associated to the author of each text.\n",
                "    W.r.t. the other predict it gives the possibility to create a dataframe\n",
                "    from data argument\n",
                "\n",
                "    It returns a Spark DataFrame containing prediction\n",
                "\n",
                "    Parameters:\n",
                "    -----------\n",
                "    data : dict\n",
                "        Dictionary containing data from which we want to predict.\n",
                "    textCol : str, optional\n",
                "        Column where text to use for prediction is located (Default value is 'post')\n",
                "    \"\"\"\n",
                "    df = spark.createDataFrame(pd.DataFrame(data)).withColumnRenamed(textCol, 'post')\n",
                "    return self.model.transform(df)\n",
                "\n",
                "class TwitterMBTIPredictor(MBTIPredictor):\n",
                "  def __init__(self, model, consumer_key, consumer_secret):\n",
                "    \"\"\"\n",
                "\n",
                "    Parameters:\n",
                "    -----------\n",
                "    model : pyspark.ml.PipelineModel\n",
                "        Model to use for predicting personalities\n",
                "    consumer_key : str\n",
                "        Access token for twitter API\n",
                "    consumer_secret : str\n",
                "        Access token for twitter API\n",
                "    \"\"\"\n",
                "    super().__init__(model)\n",
                "    self.auth = tweepy.OAuthHandler(consumer_key, consumer_secret)\n",
                "    self.api = tweepy.API(self.auth)\n",
                "\n",
                "  def predict(self, users, num_of_posts=50):\n",
                "    \"\"\"\n",
                "    Given a list of Twitter users, it predicts their personalities.\n",
                "\n",
                "    It returns a Spark DataFrame containing prediction results\n",
                "\n",
                "    Parameters:\n",
                "    -----------\n",
                "    users : List[str]\n",
                "        List of twitter user (usernames)\n",
                "    num_of_posts : int, optional\n",
                "        Number of posts to use for prediction. (Default value is '50')\n",
                "    \"\"\"\n",
                "    tweets = {'author': [],'post': []}\n",
                "    for user in users:\n",
                "      tweets['author'] += [user]\n",
                "      tweets['post'] += [\" ||| \".join([tweet.text for tweet in self.api.user_timeline(screen_name=user, count=num_of_posts)])]\n",
                "    return super().predict(tweets)"
            ]
        },
        {
            "cell_type": "markdown",
            "metadata": {
                "id": "8fpP19PJf6Pq"
            },
            "source": [
                "For accessing Twitter API you'll need two values:\n",
                "\n",
                "* `CONSUMER_KEY`\n",
                "* `CONSUMER_SECRET`\n",
                "\n",
                "This two values are personal and can be obtained by requesting access to Twitter API."
            ]
        },
        {
            "cell_type": "code",
            "execution_count": 9,
            "metadata": {
                "executionInfo": {
                    "elapsed": 9,
                    "status": "ok",
                    "timestamp": 1625834066323,
                    "user": {
                        "displayName": "Eduardo Rinaldi",
                        "photoUrl": "https://lh3.googleusercontent.com/a-/AOh14GjICFFYF_oZkC-VSi_Sb89jksqxq1BKOyZxbsKfPA=s64",
                        "userId": "00823218678353006274"
                    },
                    "user_tz": -120
                },
                "id": "4oLBUKZGTxuS"
            },
            "outputs": [],
            "source": [
                "# Put here your CONSUMER_KEY and CONSUMER_SECRET from TwitterAPI\n",
                "CONSUMER_KEY = os.getenv('CONSUMER_KEY')\n",
                "CONSUMER_SECRET = os.getenv('CONSUMER_SECRET')"
            ]
        },
        {
            "cell_type": "markdown",
            "metadata": {
                "id": "f3HkgRrSgPoa"
            },
            "source": [
                "## Creating and testing Twitter predictor"
            ]
        },
        {
            "cell_type": "code",
            "execution_count": 10,
            "metadata": {
                "executionInfo": {
                    "elapsed": 6,
                    "status": "ok",
                    "timestamp": 1625834066974,
                    "user": {
                        "displayName": "Eduardo Rinaldi",
                        "photoUrl": "https://lh3.googleusercontent.com/a-/AOh14GjICFFYF_oZkC-VSi_Sb89jksqxq1BKOyZxbsKfPA=s64",
                        "userId": "00823218678353006274"
                    },
                    "user_tz": -120
                },
                "id": "ro3aBUznurGl"
            },
            "outputs": [],
            "source": [
                "twitter_predictor = TwitterMBTIPredictor(final_model, CONSUMER_KEY, CONSUMER_SECRET)"
            ]
        },
        {
            "cell_type": "code",
            "execution_count": 15,
            "metadata": {
                "colab": {
                    "base_uri": "https://localhost:8080/"
                },
                "executionInfo": {
                    "elapsed": 5156,
                    "status": "ok",
                    "timestamp": 1625834141475,
                    "user": {
                        "displayName": "Eduardo Rinaldi",
                        "photoUrl": "https://lh3.googleusercontent.com/a-/AOh14GjICFFYF_oZkC-VSi_Sb89jksqxq1BKOyZxbsKfPA=s64",
                        "userId": "00823218678353006274"
                    },
                    "user_tz": -120
                },
                "id": "E8XhJQznvFE9",
                "outputId": "e88212db-4ac3-494b-cc22-a9b36d9498f5"
            },
            "outputs": [
                {
                    "name": "stdout",
                    "output_type": "stream",
                    "text": [
                        "+--------------+--------------------+--------------------+---------------+---------------+---------------+---------------+\n",
                        "|        author|                post|               terms|ie_labeled_pred|ns_labeled_pred|tf_labeled_pred|pj_labeled_pred|\n",
                        "+--------------+--------------------+--------------------+---------------+---------------+---------------+---------------+\n",
                        "|   BarackObama|Michelle and I sa...|[michelle, sit, t...|              e|              n|              f|              p|\n",
                        "| MichelleObama|Happy Fourth of J...|[happy, fourth, j...|              e|              n|              f|              p|\n",
                        "|     BillGates|This expanded com...|[expand, commitme...|              e|              n|              t|              j|\n",
                        "|   ConanOBrien|Brenna claims to ...|[brenna, claim, f...|              e|              n|              t|              j|\n",
                        "|       TheRock|🚨You’re official...|[officially, noti...|              e|              n|              f|              p|\n",
                        "|morgan_freeman|Can any entrepren...|[entrepreneur, re...|              i|              n|              f|              j|\n",
                        "| TheElliotPage|RT @tagaq: You ma...|[rt, tagaq, justi...|              e|              n|              t|              p|\n",
                        "+--------------+--------------------+--------------------+---------------+---------------+---------------+---------------+\n",
                        "\n"
                    ]
                }
            ],
            "source": [
                "twitter_users = ['BarackObama', 'MichelleObama', 'BillGates', 'ConanOBrien', 'TheRock', 'morgan_freeman', 'TheElliotPage']\n",
                "twitter_predictor.predict(users=twitter_users, num_of_posts=75) \\\n",
                ".select('author', 'post', 'terms','ie_labeled_pred', 'ns_labeled_pred', 'tf_labeled_pred', 'pj_labeled_pred') \\\n",
                ".show()"
            ]
        },
        {
            "cell_type": "markdown",
            "metadata": {
                "id": "B29QlIyCMYUj"
            },
            "source": [
                "We can compare these results with the one proposed [on this website](https://www.crystalknows.com/famous-people).\n",
                "\n",
                "*   **Barack Obama:** enfj\n",
                "*   **Michelle Obama:** intj\n",
                "*   **Bill Gates:** intj\n",
                "*   **Conan O'Brien:** entp\n",
                "*   **Dwayne Johnson:** entp \n",
                "*   **Morgan Freeman:** infj\n",
                "*   **Elliot Page:** intp\n"
            ]
        },
        {
            "attachments": {},
            "cell_type": "markdown",
            "metadata": {
                "id": "62GZxJR635-L"
            },
            "source": [
                "# **Single post prediction:**\n",
                "This is another approach that we could experiment and:\n",
                "\n",
                "* It gives us more examples (each entry is a post, not a user collection of posts)\n",
                "* It is more difficult: is hard to classify a post based on few words\n"
            ]
        },
        {
            "cell_type": "markdown",
            "metadata": {
                "id": "U2nF_DPUZ-wb"
            },
            "source": [
                "## Splitting posts by '|||'\n",
                "We will start from `union_df` dataset (`mbti_df + reddit_df`); we can split each row in multiple rows by `\"|||\"` string.\n",
                "For \"caching\" the result I created another dataset called `\"mbti_and_reddit.parquet\"` which has been already splitted."
            ]
        },
        {
            "cell_type": "code",
            "execution_count": null,
            "metadata": {
                "colab": {
                    "base_uri": "https://localhost:8080/"
                },
                "executionInfo": {
                    "elapsed": 459,
                    "status": "ok",
                    "timestamp": 1625739452424,
                    "user": {
                        "displayName": "Eduardo Rinaldi",
                        "photoUrl": "https://lh3.googleusercontent.com/a-/AOh14GjICFFYF_oZkC-VSi_Sb89jksqxq1BKOyZxbsKfPA=s64",
                        "userId": "00823218678353006274"
                    },
                    "user_tz": -120
                },
                "id": "993coJEPaOaI",
                "outputId": "d86c37ef-9655-4573-abd0-5a2248a71ca5"
            },
            "outputs": [
                {
                    "name": "stdout",
                    "output_type": "stream",
                    "text": [
                        "Loading dataset at /datasets/mbti_and_reddit.parquet\n",
                        "+--------------------+---+---+---+---+\n",
                        "|                post| ie| ns| tf| pj|\n",
                        "+--------------------+---+---+---+---+\n",
                        "|      Arin can fred |  i|  n|  t|  j|\n",
                        "| You know, it's f...|  i|  n|  t|  j|\n",
                        "| Meanwhile I'm dy...|  i|  n|  t|  j|\n",
                        "| Especially with ...|  i|  n|  t|  j|\n",
                        "| What? Is this a ...|  i|  n|  t|  j|\n",
                        "| Ja, og de var va...|  i|  n|  t|  j|\n",
                        "| Norwegian here. ...|  i|  n|  t|  j|\n",
                        "| I love it. Can't...|  i|  n|  t|  j|\n",
                        "|             Whohoo |  i|  n|  t|  j|\n",
                        "| ISTJ - Accountin...|  i|  n|  t|  j|\n",
                        "| I think ISTJ's b...|  i|  n|  t|  j|\n",
                        "| I think the most...|  i|  n|  t|  j|\n",
                        "| All talks machin...|  i|  n|  t|  j|\n",
                        "| Well of course D...|  i|  n|  t|  j|\n",
                        "| The fact that Ar...|  i|  n|  t|  j|\n",
                        "| Now we finally h...|  i|  n|  t|  j|\n",
                        "| I'm just pulling...|  i|  n|  t|  j|\n",
                        "| Holy fuck man, I...|  i|  n|  t|  j|\n",
                        "| ISTJ's normaly w...|  i|  n|  t|  j|\n",
                        "| I saw Edguy in s...|  i|  n|  t|  j|\n",
                        "+--------------------+---+---+---+---+\n",
                        "only showing top 20 rows\n",
                        "\n",
                        "Dataset is composed by 5 columns and 950538 records\n"
                    ]
                }
            ],
            "source": [
                "# Put this to False if you want to not use the cached dataset (slower)\n",
                "USE_PRESPLITTED_UNION_DF = True\n",
                "\n",
                "UNION_DATASET_PATH = f'{DATASETS_PATH}mbti_and_reddit.parquet'\n",
                "\n",
                "# Se this to True if you want to save the dataset\n",
                "SAVE_DATASET = False\n",
                "\n",
                "if USE_PRESPLITTED_UNION_DF:\n",
                "  print(f'Loading dataset at {UNION_DATASET_PATH}')\n",
                "  single_post_union_df = spark.read.parquet(UNION_DATASET_PATH)\n",
                "  indicators = ['ie','ns','tf','pj']\n",
                "else:\n",
                "  single_post_union_df = union_df.withColumn('post', explode(split(\"post\", \"\\|\\|\\|\"))).where(col('post') != '')\n",
                "\n",
                "if SAVE_DATASET:\n",
                "  print(f'Dataset save at {UNION_DATASET_PATH}')\n",
                "  single_post_union_df.write.parquet(UNION_DATASET_PATH)\n",
                "\n",
                "single_post_union_df.show()\n",
                "print(f'Dataset is composed by {len(single_post_union_df.columns)} columns and {single_post_union_df.count()} records')"
            ]
        },
        {
            "cell_type": "markdown",
            "metadata": {
                "id": "EbobjuTV3HlO"
            },
            "source": [
                "As we can see now we have almost 1 millions records!!"
            ]
        },
        {
            "cell_type": "code",
            "execution_count": null,
            "metadata": {
                "colab": {
                    "base_uri": "https://localhost:8080/",
                    "height": 609
                },
                "executionInfo": {
                    "elapsed": 483670,
                    "status": "ok",
                    "timestamp": 1625740063238,
                    "user": {
                        "displayName": "Eduardo Rinaldi",
                        "photoUrl": "https://lh3.googleusercontent.com/a-/AOh14GjICFFYF_oZkC-VSi_Sb89jksqxq1BKOyZxbsKfPA=s64",
                        "userId": "00823218678353006274"
                    },
                    "user_tz": -120
                },
                "id": "XvvERLD9c-vo",
                "outputId": "170e6086-0896-4664-f646-74d292365e0b"
            },
            "outputs": [
                {
                    "data": {
                        "image/png": "[encoded data removed]",
                        "text/plain": [
                            "<Figure size 720x720 with 4 Axes>"
                        ]
                    },
                    "metadata": {
                        "needs_background": "light",
                        "tags": []
                    },
                    "output_type": "display_data"
                }
            ],
            "source": [
                "plot_indicators_distribution(single_post_union_df)"
            ]
        },
        {
            "cell_type": "markdown",
            "metadata": {
                "id": "cHkX6etZ3Oa5"
            },
            "source": [
                "Classes are still unbalanced, but now we *could* also apply \"*undersampling*\" because we have a lot of data to use for training. (We're not going for it)\n",
                "\n",
                "Notice also that undersampling here can be done in a \"smart\" way: \n",
                "* 4 different datasets are created, one for each indicator, so for each binary classifier\n",
                "* For each dataset we undersample majority class examples until we reach a balanced situation.\n",
                "\n",
                "In our case we would have:\n",
                "1. **IE dataset:** undersample majority class (i.e. \"*I*\") to 300k examples (600k total examples)\n",
                "2. **NS dataset:** undersample majority class (i.e. \"*N*\") to 200k examples (400k total examples)\n",
                "3. **TF dataset:** undersample majority class (i.e. \"*T*\") to 450k examples (900k total examples)\n",
                "4. **PJ dataset:** undersample majority class (i.e. \"*P*\") to ~400k examples (~800k total examples)\n",
                "\n",
                "But, as said before we're not going for this approach.\n"
            ]
        },
        {
            "cell_type": "markdown",
            "metadata": {
                "id": "jPO0VE7m37t4"
            },
            "source": [
                "## Split into training and test set"
            ]
        },
        {
            "cell_type": "code",
            "execution_count": null,
            "metadata": {
                "id": "87dC1Bsm7V8U"
            },
            "outputs": [],
            "source": [
                "train_df, test_df = single_post_union_df.randomSplit([0.7, 0.3])"
            ]
        },
        {
            "cell_type": "markdown",
            "metadata": {
                "id": "731Lk1Zlzv39"
            },
            "source": [
                "## Testing previous approach model on this dataset\n",
                "Before procedeing to explore \"single post\" approach, it is useful to evaluate \"grouped posts\" final model on this dataset, for different reasons:\n",
                "\n",
                "1. To see how it performs on short text and single posts\n",
                "2. To compare it later with \"single approach\" models"
            ]
        },
        {
            "cell_type": "code",
            "execution_count": null,
            "metadata": {
                "colab": {
                    "base_uri": "https://localhost:8080/"
                },
                "executionInfo": {
                    "elapsed": 4879118,
                    "status": "ok",
                    "timestamp": 1625744970038,
                    "user": {
                        "displayName": "Eduardo Rinaldi",
                        "photoUrl": "https://lh3.googleusercontent.com/a-/AOh14GjICFFYF_oZkC-VSi_Sb89jksqxq1BKOyZxbsKfPA=s64",
                        "userId": "00823218678353006274"
                    },
                    "user_tz": -120
                },
                "id": "SVOZFZBWhW9v",
                "outputId": "5dce5a1c-0d9b-41bd-d727-08b4fe5982bf"
            },
            "outputs": [
                {
                    "name": "stdout",
                    "output_type": "stream",
                    "text": [
                        "ie => {'accuracy': 0.6661745268427122, 'f1': 0.6273821156928534, 'precisionByLabel': 0.7152328040134334, 'recallByLabel': 0.8677938306135179, 'weightedPrecision': 0.6181136916550377, 'weightedRecall': 0.6661745268427122}\n",
                        "\n",
                        "ns => {'accuracy': 0.8007466464186282, 'f1': 0.7173953349041853, 'precisionByLabel': 0.8037280740523359, 'recallByLabel': 0.9948749819464565, 'weightedPrecision': 0.702259851515482, 'weightedRecall': 0.8007466464186282}\n",
                        "\n",
                        "tf => {'accuracy': 0.5778494895806968, 'f1': 0.5781022080138358, 'precisionByLabel': 0.6021087485706669, 'recallByLabel': 0.5752642408562946, 'weightedPrecision': 0.5789865328421927, 'weightedRecall': 0.5778494895806969}\n",
                        "\n",
                        "pj => {'accuracy': 0.4028234764757164, 'f1': 0.24539311094986618, 'precisionByLabel': 0.5934885824101289, 'recallByLabel': 0.015377225304176161, 'weightedPrecision': 0.5160342234349908, 'weightedRecall': 0.40282347647571637}\n",
                        "\n"
                    ]
                }
            ],
            "source": [
                "test_df.cache()\n",
                "final_model_scores = {}\n",
                "for ind in indicators:\n",
                "  final_model_scores[ind] = evaluate_model(final_model, test_df, predictionCol=f'{ind}_pred', labelCol=f'idx_{ind}')\n",
                "  print(f'{ind} => {final_model_scores[ind]}\\n')"
            ]
        },
        {
            "cell_type": "markdown",
            "metadata": {
                "id": "FZ_8BDaq41Ia"
            },
            "source": [
                "It doesn't seem to perform well... except for 'ns' indicator. But now, let's continue with \"single post\" approach."
            ]
        },
        {
            "cell_type": "markdown",
            "metadata": {
                "id": "eCDtLBsX3mCD"
            },
            "source": [
                "## Features engineering\n",
                "We need to:\n",
                "\n",
                "1. Clean and normalize text\n",
                "2. Extract features\n",
                "\n",
                "We can use same functions used for the other approach for fitting **new** text cleaning and features extraction pipelines based on this other dataset."
            ]
        },
        {
            "cell_type": "markdown",
            "metadata": {
                "id": "U4iBLI6L4UPb"
            },
            "source": [
                "### Text cleaning and normalization"
            ]
        },
        {
            "cell_type": "code",
            "execution_count": null,
            "metadata": {
                "colab": {
                    "base_uri": "https://localhost:8080/"
                },
                "executionInfo": {
                    "elapsed": 2302,
                    "status": "ok",
                    "timestamp": 1625679396430,
                    "user": {
                        "displayName": "Eduardo Rinaldi",
                        "photoUrl": "https://lh3.googleusercontent.com/a-/AOh14GjICFFYF_oZkC-VSi_Sb89jksqxq1BKOyZxbsKfPA=s64",
                        "userId": "00823218678353006274"
                    },
                    "user_tz": -120
                },
                "id": "pVqAo-Cc7-Hr",
                "outputId": "825ded85-3ee2-4361-ed48-4f02875ab7bb"
            },
            "outputs": [
                {
                    "name": "stdout",
                    "output_type": "stream",
                    "text": [
                        "Using pretrained text cleaning pipeline, located at /content/drive/MyDrive/pretrainedModels/tc_pipeline_202107050659\n"
                    ]
                }
            ],
            "source": [
                "# Set this to False for fitting a new text cleaning pipeline\n",
                "USE_PRETRAINED_TC_PIPELINE = True\n",
                "PRETRAINED_TC_PIPELINE_NAME = 'tc_pipeline_202107050659'\n",
                "\n",
                "if USE_PRETRAINED_TC_PIPELINE:\n",
                "  print(f'Using pretrained text cleaning pipeline, located at {PRETRAINED_MODELS_PATH+PRETRAINED_TC_PIPELINE_NAME}')\n",
                "  tc_pipeline = PipelineModel.load(PRETRAINED_MODELS_PATH+PRETRAINED_TC_PIPELINE_NAME)\n",
                "else:\n",
                "  tc_pipeline = text_cleaning_pipeline(train_df, saveModel=True)"
            ]
        },
        {
            "cell_type": "code",
            "execution_count": null,
            "metadata": {
                "id": "UvdqrNYUAJMl"
            },
            "outputs": [],
            "source": [
                "# Text cleaning on both train and test sets\n",
                "clean_train_df = tc_pipeline.transform(train_df)\n",
                "clean_test_df = tc_pipeline.transform(test_df)"
            ]
        },
        {
            "cell_type": "markdown",
            "metadata": {
                "id": "qrDySFHw4cDL"
            },
            "source": [
                "### Feature extraction pipeline"
            ]
        },
        {
            "cell_type": "code",
            "execution_count": null,
            "metadata": {
                "colab": {
                    "base_uri": "https://localhost:8080/"
                },
                "executionInfo": {
                    "elapsed": 2098,
                    "status": "ok",
                    "timestamp": 1625679399200,
                    "user": {
                        "displayName": "Eduardo Rinaldi",
                        "photoUrl": "https://lh3.googleusercontent.com/a-/AOh14GjICFFYF_oZkC-VSi_Sb89jksqxq1BKOyZxbsKfPA=s64",
                        "userId": "00823218678353006274"
                    },
                    "user_tz": -120
                },
                "id": "3rJUQ3zN8bsF",
                "outputId": "1fbfa4ac-c25b-4b9e-d4e3-52c84660886f"
            },
            "outputs": [
                {
                    "name": "stdout",
                    "output_type": "stream",
                    "text": [
                        "Using pretrained feature extraction pipeline, located at /content/drive/MyDrive/pretrainedModels/cv0.0001_idf_pca100__202107051202\n"
                    ]
                }
            ],
            "source": [
                "# Set this to False for fitting a new feature extraction pipeline\n",
                "USE_PRETRAINED_FE_PIPELINE = True\n",
                "PRETRAINED_FE_PIPELINE_NAME = 'cv0.0001_idf_pca100__202107051202'\n",
                "\n",
                "if USE_PRETRAINED_FE_PIPELINE:\n",
                "  print(f'Using pretrained feature extraction pipeline, located at {PRETRAINED_MODELS_PATH+PRETRAINED_FE_PIPELINE_NAME}')\n",
                "  fe_pipeline = PipelineModel.load(PRETRAINED_MODELS_PATH+PRETRAINED_FE_PIPELINE_NAME)\n",
                "else: \n",
                "  fe_pipeline = feature_extraction_pipeline(clean_train_df, pcaK=100, cvMinDF=0.0001, saveModel=True)\n",
                "\n",
                "labels = [fe_pipeline.stages[3+i].labels for i, ind in enumerate(indicators)]"
            ]
        },
        {
            "attachments": {},
            "cell_type": "markdown",
            "metadata": {
                "id": "8mlwgR224ic7"
            },
            "source": [
                "##### Explained variance by using 100 features"
            ]
        },
        {
            "cell_type": "code",
            "execution_count": null,
            "metadata": {
                "colab": {
                    "base_uri": "https://localhost:8080/",
                    "height": 282
                },
                "executionInfo": {
                    "elapsed": 391,
                    "status": "ok",
                    "timestamp": 1625680452957,
                    "user": {
                        "displayName": "Eduardo Rinaldi",
                        "photoUrl": "https://lh3.googleusercontent.com/a-/AOh14GjICFFYF_oZkC-VSi_Sb89jksqxq1BKOyZxbsKfPA=s64",
                        "userId": "00823218678353006274"
                    },
                    "user_tz": -120
                },
                "id": "fdIR7fntk_Lk",
                "outputId": "576fd39a-d16f-4520-bd43-3a0babc0ebe0"
            },
            "outputs": [
                {
                    "data": {
                        "text/plain": [
                            "[<matplotlib.lines.Line2D at 0x7fc48afb91d0>]"
                        ]
                    },
                    "execution_count": 62,
                    "metadata": {
                        "tags": []
                    },
                    "output_type": "execute_result"
                },
                {
                    "data": {
                        "image/png": "[encoded data removed]",
                        "text/plain": [
                            "<Figure size 432x288 with 1 Axes>"
                        ]
                    },
                    "metadata": {
                        "needs_background": "light",
                        "tags": []
                    },
                    "output_type": "display_data"
                }
            ],
            "source": [
                "plt.plot(fe_pipeline.stages[2].explainedVariance)"
            ]
        },
        {
            "cell_type": "code",
            "execution_count": null,
            "metadata": {
                "colab": {
                    "base_uri": "https://localhost:8080/"
                },
                "executionInfo": {
                    "elapsed": 1391,
                    "status": "ok",
                    "timestamp": 1625679400587,
                    "user": {
                        "displayName": "Eduardo Rinaldi",
                        "photoUrl": "https://lh3.googleusercontent.com/a-/AOh14GjICFFYF_oZkC-VSi_Sb89jksqxq1BKOyZxbsKfPA=s64",
                        "userId": "00823218678353006274"
                    },
                    "user_tz": -120
                },
                "id": "zi2U7AtrATfC",
                "outputId": "9a2d1b7e-3c96-4408-a708-15b33990a387"
            },
            "outputs": [
                {
                    "name": "stdout",
                    "output_type": "stream",
                    "text": [
                        "+--------------------+---+---+---+---+--------------------+--------------------+--------------------+--------------------+------+------+------+------+\n",
                        "|                post| ie| ns| tf| pj|               terms|         cv_features|        idf_features|        pca_features|idx_ie|idx_ns|idx_tf|idx_pj|\n",
                        "+--------------------+---+---+---+---+--------------------+--------------------+--------------------+--------------------+------+------+------+------+\n",
                        "|\n",
                        "\n",
                        "-I love it how ...|  i|  n|  t|  j|[love, officially...|(7441,[1,2,4,5,6,...|(7441,[1,2,4,5,6,...|[-8.1282495587694...|   0.0|   0.0|   0.0|   1.0|\n",
                        "|\n",
                        "I just moved int...|  i|  n|  t|  j|[move, apartment,...|(7441,[1,4,85,102...|(7441,[1,4,85,102...|[4.00696065288476...|   0.0|   0.0|   0.0|   1.0|\n",
                        "| \n",
                        "\n",
                        "\n",
                        "\n",
                        "\n",
                        "\n",
                        "\n",
                        "\n",
                        "\n",
                        "\n",
                        "I'm no...|  e|  n|  f|  p|[lot, common, med...|(7441,[11,24,26,1...|(7441,[11,24,26,1...|[5.11686459813983...|   1.0|   0.0|   1.0|   0.0|\n",
                        "| \n",
                        "\n",
                        "\n",
                        "\n",
                        "Sorry I'm la...|  e|  n|  f|  p|[late, post, year...|(7441,[2,3,6,12,1...|(7441,[2,3,6,12,1...|[-8.3364150246610...|   1.0|   0.0|   1.0|   0.0|\n",
                        "| \n",
                        "\n",
                        "> they have th...|  e|  n|  f|  p|[mobile, app, spi...|(7441,[41,372,868...|(7441,[41,372,868...|[-1.0067412073780...|   1.0|   0.0|   1.0|   0.0|\n",
                        "| \n",
                        "\n",
                        ">My girlfriend...|  i|  n|  f|  p|[girlfriend, talk...|(7441,[1,2,3,4,16...|(7441,[1,2,3,4,16...|[9.18877478873737...|   0.0|   0.0|   1.0|   0.0|\n",
                        "| \n",
                        "\n",
                        "Honestly, the ...|  e|  n|  t|  p|[honestly, pretty...|(7441,[0,3,4,5,6,...|(7441,[0,3,4,5,6,...|[-0.0027588685144...|   1.0|   0.0|   0.0|   0.0|\n",
                        "| \n",
                        "\n",
                        "How do you cal...|  i|  n|  t|  j|[call, atheist, i...|(7441,[4,48,54,13...|(7441,[4,48,54,13...|[2.27734234096598...|   0.0|   0.0|   0.0|   1.0|\n",
                        "| \n",
                        "\n",
                        "THIS!\n",
                        "\n",
                        "masturb...|  e|  s|  t|  p|[masturbation, ma...|(7441,[1,166,274,...|(7441,[1,166,274,...|[-8.2389807770684...|   1.0|   1.0|   0.0|   0.0|\n",
                        "| \n",
                        "\n",
                        "Yodatos & Baby...|  e|  n|  t|  p|[yodatos, baby, y...|  (7441,[469],[1.0])|(7441,[469],[5.66...|[3.53171472001953...|   1.0|   0.0|   0.0|   0.0|\n",
                        "| \n",
                        "\n",
                        "You might have...|  e|  n|  t|  p|[gaming, prodigy,...|(7441,[1770,2900]...|(7441,[1770,2900]...|[-2.1427455307862...|   1.0|   0.0|   0.0|   0.0|\n",
                        "| \n",
                        "\n",
                        "[View Poll](ht...|  i|  n|  t|  j|        [view, poll]|(7441,[229,1184],...|(7441,[229,1184],...|[1.86028021551053...|   0.0|   0.0|   0.0|   1.0|\n",
                        "| \n",
                        "\n",
                        "[View Poll](ht...|  i|  n|  t|  p|        [view, poll]|(7441,[229,1184],...|(7441,[229,1184],...|[1.86028021551053...|   0.0|   0.0|   0.0|   0.0|\n",
                        "| \n",
                        "\n",
                        "[View Poll](ht...|  i|  n|  t|  p|        [view, poll]|(7441,[229,1184],...|(7441,[229,1184],...|[1.86028021551053...|   0.0|   0.0|   0.0|   0.0|\n",
                        "| \n",
                        "\n",
                        "[View Poll](ht...|  i|  n|  t|  j|        [view, poll]|(7441,[229,1184],...|(7441,[229,1184],...|[1.86028021551053...|   0.0|   0.0|   0.0|   1.0|\n",
                        "| \n",
                        "\n",
                        "[View Poll](ht...|  e|  n|  f|  p|        [view, poll]|(7441,[229,1184],...|(7441,[229,1184],...|[1.86028021551053...|   1.0|   0.0|   1.0|   0.0|\n",
                        "| \n",
                        "\n",
                        "[View Poll](ht...|  i|  n|  t|  p|        [view, poll]|(7441,[229,1184],...|(7441,[229,1184],...|[1.86028021551053...|   0.0|   0.0|   0.0|   0.0|\n",
                        "| \n",
                        "\n",
                        "[View Poll](ht...|  e|  n|  f|  j|        [view, poll]|(7441,[229,1184],...|(7441,[229,1184],...|[1.86028021551053...|   1.0|   0.0|   1.0|   1.0|\n",
                        "| \n",
                        "\n",
                        "[View Poll](ht...|  e|  n|  t|  j|        [view, poll]|(7441,[229,1184],...|(7441,[229,1184],...|[1.86028021551053...|   1.0|   0.0|   0.0|   1.0|\n",
                        "| \n",
                        "\n",
                        "[View Poll](ht...|  e|  n|  f|  p|        [view, poll]|(7441,[229,1184],...|(7441,[229,1184],...|[1.86028021551053...|   1.0|   0.0|   1.0|   0.0|\n",
                        "+--------------------+---+---+---+---+--------------------+--------------------+--------------------+--------------------+------+------+------+------+\n",
                        "only showing top 20 rows\n",
                        "\n"
                    ]
                }
            ],
            "source": [
                "# Feature extraction on train and test sets\n",
                "fe_train_df = fe_pipeline.transform(clean_train_df)\n",
                "fe_test_df = fe_pipeline.transform(clean_test_df)\n",
                "\n",
                "fe_train_df.show()"
            ]
        },
        {
            "cell_type": "code",
            "execution_count": null,
            "metadata": {
                "colab": {
                    "base_uri": "https://localhost:8080/"
                },
                "executionInfo": {
                    "elapsed": 1051990,
                    "status": "ok",
                    "timestamp": 1625680452572,
                    "user": {
                        "displayName": "Eduardo Rinaldi",
                        "photoUrl": "https://lh3.googleusercontent.com/a-/AOh14GjICFFYF_oZkC-VSi_Sb89jksqxq1BKOyZxbsKfPA=s64",
                        "userId": "00823218678353006274"
                    },
                    "user_tz": -120
                },
                "id": "IN4xYWXEctEY",
                "outputId": "d8f37770-968b-4e73-92eb-0408a40d8024"
            },
            "outputs": [
                {
                    "name": "stdout",
                    "output_type": "stream",
                    "text": [
                        "+--------------------+---+---+---+---+--------------------+--------------------+--------------------+--------------------+------+------+------+------+\n",
                        "|                post| ie| ns| tf| pj|               terms|         cv_features|        idf_features|        pca_features|idx_ie|idx_ns|idx_tf|idx_pj|\n",
                        "+--------------------+---+---+---+---+--------------------+--------------------+--------------------+--------------------+------+------+------+------+\n",
                        "|\n",
                        "\n",
                        "-I love it how ...|  i|  n|  t|  j|[love, officially...|(7441,[1,2,4,5,6,...|(7441,[1,2,4,5,6,...|[-8.1282495587694...|   0.0|   0.0|   0.0|   1.0|\n",
                        "|\n",
                        "I just moved int...|  i|  n|  t|  j|[move, apartment,...|(7441,[1,4,85,102...|(7441,[1,4,85,102...|[4.00696065288476...|   0.0|   0.0|   0.0|   1.0|\n",
                        "| \n",
                        "\n",
                        "\n",
                        "\n",
                        "\n",
                        "\n",
                        "\n",
                        "\n",
                        "\n",
                        "\n",
                        "I'm no...|  e|  n|  f|  p|[lot, common, med...|(7441,[11,24,26,1...|(7441,[11,24,26,1...|[5.11686459813983...|   1.0|   0.0|   1.0|   0.0|\n",
                        "| \n",
                        "\n",
                        "\n",
                        "\n",
                        "Sorry I'm la...|  e|  n|  f|  p|[late, post, year...|(7441,[2,3,6,12,1...|(7441,[2,3,6,12,1...|[-8.3364150246610...|   1.0|   0.0|   1.0|   0.0|\n",
                        "| \n",
                        "\n",
                        "> they have th...|  e|  n|  f|  p|[mobile, app, spi...|(7441,[41,372,868...|(7441,[41,372,868...|[-1.0067412073780...|   1.0|   0.0|   1.0|   0.0|\n",
                        "| \n",
                        "\n",
                        ">My girlfriend...|  i|  n|  f|  p|[girlfriend, talk...|(7441,[1,2,3,4,16...|(7441,[1,2,3,4,16...|[9.18877478873737...|   0.0|   0.0|   1.0|   0.0|\n",
                        "| \n",
                        "\n",
                        "Honestly, the ...|  e|  n|  t|  p|[honestly, pretty...|(7441,[0,3,4,5,6,...|(7441,[0,3,4,5,6,...|[-0.0027588685144...|   1.0|   0.0|   0.0|   0.0|\n",
                        "| \n",
                        "\n",
                        "How do you cal...|  i|  n|  t|  j|[call, atheist, i...|(7441,[4,48,54,13...|(7441,[4,48,54,13...|[2.27734234096598...|   0.0|   0.0|   0.0|   1.0|\n",
                        "| \n",
                        "\n",
                        "THIS!\n",
                        "\n",
                        "masturb...|  e|  s|  t|  p|[masturbation, ma...|(7441,[1,166,274,...|(7441,[1,166,274,...|[-8.2389807770684...|   1.0|   1.0|   0.0|   0.0|\n",
                        "| \n",
                        "\n",
                        "Yodatos & Baby...|  e|  n|  t|  p|[yodatos, baby, y...|  (7441,[469],[1.0])|(7441,[469],[5.66...|[3.53171472001953...|   1.0|   0.0|   0.0|   0.0|\n",
                        "| \n",
                        "\n",
                        "You might have...|  e|  n|  t|  p|[gaming, prodigy,...|(7441,[1770,2900]...|(7441,[1770,2900]...|[-2.1427455307862...|   1.0|   0.0|   0.0|   0.0|\n",
                        "| \n",
                        "\n",
                        "[View Poll](ht...|  i|  n|  t|  j|        [view, poll]|(7441,[229,1184],...|(7441,[229,1184],...|[1.86028021551053...|   0.0|   0.0|   0.0|   1.0|\n",
                        "| \n",
                        "\n",
                        "[View Poll](ht...|  i|  n|  t|  p|        [view, poll]|(7441,[229,1184],...|(7441,[229,1184],...|[1.86028021551053...|   0.0|   0.0|   0.0|   0.0|\n",
                        "| \n",
                        "\n",
                        "[View Poll](ht...|  i|  n|  t|  p|        [view, poll]|(7441,[229,1184],...|(7441,[229,1184],...|[1.86028021551053...|   0.0|   0.0|   0.0|   0.0|\n",
                        "| \n",
                        "\n",
                        "[View Poll](ht...|  i|  n|  t|  j|        [view, poll]|(7441,[229,1184],...|(7441,[229,1184],...|[1.86028021551053...|   0.0|   0.0|   0.0|   1.0|\n",
                        "| \n",
                        "\n",
                        "[View Poll](ht...|  e|  n|  f|  p|        [view, poll]|(7441,[229,1184],...|(7441,[229,1184],...|[1.86028021551053...|   1.0|   0.0|   1.0|   0.0|\n",
                        "| \n",
                        "\n",
                        "[View Poll](ht...|  i|  n|  t|  p|        [view, poll]|(7441,[229,1184],...|(7441,[229,1184],...|[1.86028021551053...|   0.0|   0.0|   0.0|   0.0|\n",
                        "| \n",
                        "\n",
                        "[View Poll](ht...|  e|  n|  f|  j|        [view, poll]|(7441,[229,1184],...|(7441,[229,1184],...|[1.86028021551053...|   1.0|   0.0|   1.0|   1.0|\n",
                        "| \n",
                        "\n",
                        "[View Poll](ht...|  e|  n|  t|  j|        [view, poll]|(7441,[229,1184],...|(7441,[229,1184],...|[1.86028021551053...|   1.0|   0.0|   0.0|   1.0|\n",
                        "| \n",
                        "\n",
                        "[View Poll](ht...|  e|  n|  f|  p|        [view, poll]|(7441,[229,1184],...|(7441,[229,1184],...|[1.86028021551053...|   1.0|   0.0|   1.0|   0.0|\n",
                        "+--------------------+---+---+---+---+--------------------+--------------------+--------------------+--------------------+------+------+------+------+\n",
                        "only showing top 20 rows\n",
                        "\n"
                    ]
                }
            ],
            "source": [
                "# Caching results\n",
                "final_train_df = fe_train_df.cache()\n",
                "final_test_df = fe_test_df.cache()\n",
                "\n",
                "final_train_df.show()"
            ]
        },
        {
            "attachments": {},
            "cell_type": "markdown",
            "metadata": {
                "id": "rqkylIGSu49k"
            },
            "source": [
                "## ML Models training\n",
                "For this approach we will test first **only two** train algorithms, which are the ones who performed best on the other approach:\n",
                "\n",
                "* **Naive Bayes:** using *TF-IDF features*\n",
                "* **Neural Network:** *using PCA features*\n"
            ]
        },
        {
            "cell_type": "code",
            "execution_count": null,
            "metadata": {
                "id": "qNYCNXgk6QDP"
            },
            "outputs": [],
            "source": [
                "# for each indicator we will have a dictionary that will contains best model for each training algorithm and its scores\n",
                "best_models = {ind:{} for ind in indicators}\n",
                "\n",
                "# ML Pipeline Models\n",
                "# Set this to False if you want to train new models\n",
                "USE_PRETRAINED_ML_PIPELINE = True\n",
                "\n",
                "# Naive Bayes\n",
                "PRETRAINED_NB_PIPELINE_NAMES = {\n",
                "    'ie': 'nb_ie_modelTypemultinomial_202107051347',\n",
                "    'ns': 'nb_ns_modelTypemultinomial_202107051349',\n",
                "    'tf': 'nb_tf_modelTypemultinomial_202107051351',\n",
                "    'pj': 'nb_pj_modelTypemultinomial_202107051353'\n",
                "}\n",
                "\n",
                "# Neural Network\n",
                "PRETRAINED_NN_PIPELINE_NAMES = {\n",
                "    'ie': 'nn_ie_maxIter10_stepSize0.01_solverl-bfgs_202107062119',\n",
                "    'ns': 'nn_ns_maxIter10_stepSize0.01_solverl-bfgs_202107070125',\n",
                "    'tf': 'nn_tf_maxIter10_stepSize0.01_solverl-bfgs_202107071103',\n",
                "    'pj': 'nn_pj_maxIter10_stepSize0.01_solvergd_202107071349'\n",
                "}"
            ]
        },
        {
            "cell_type": "markdown",
            "metadata": {
                "id": "DNNXEPYt59B7"
            },
            "source": [
                "### Naive Bayes"
            ]
        },
        {
            "cell_type": "code",
            "execution_count": null,
            "metadata": {
                "colab": {
                    "base_uri": "https://localhost:8080/"
                },
                "executionInfo": {
                    "elapsed": 794804,
                    "status": "ok",
                    "timestamp": 1625681247751,
                    "user": {
                        "displayName": "Eduardo Rinaldi",
                        "photoUrl": "https://lh3.googleusercontent.com/a-/AOh14GjICFFYF_oZkC-VSi_Sb89jksqxq1BKOyZxbsKfPA=s64",
                        "userId": "00823218678353006274"
                    },
                    "user_tz": -120
                },
                "id": "nPb9Oqy9L215",
                "outputId": "a403a138-6d31-4ba7-ddd1-fe09c1bdb6a5"
            },
            "outputs": [
                {
                    "name": "stdout",
                    "output_type": "stream",
                    "text": [
                        "Loading pretrained NB pipeline\n",
                        "{'ie': {'nb': (PipelineModel_66a823fe4045,\n",
                        "               {'accuracy': 0.6194051249055865,\n",
                        "                'f1': 0.6200906814002721,\n",
                        "                'precisionByLabel': 0.7291658287415035,\n",
                        "                'recallByLabel': 0.7251518712032199,\n",
                        "                'weightedPrecision': 0.6207930169365878,\n",
                        "                'weightedRecall': 0.6194051249055864})},\n",
                        " 'ns': {'nb': (PipelineModel_ba283dfc6022,\n",
                        "               {'accuracy': 0.6867884018239293,\n",
                        "                'f1': 0.6989349792617146,\n",
                        "                'precisionByLabel': 0.8242853967136585,\n",
                        "                'recallByLabel': 0.7751433934489772,\n",
                        "                'weightedPrecision': 0.7136569617943156,\n",
                        "                'weightedRecall': 0.6867884018239293})},\n",
                        " 'pj': {'nb': (PipelineModel_8a8a63945d9b,\n",
                        "               {'accuracy': 0.5802479928385599,\n",
                        "                'f1': 0.572796428811591,\n",
                        "                'precisionByLabel': 0.6359372856856477,\n",
                        "                'recallByLabel': 0.7025907037738598,\n",
                        "                'weightedPrecision': 0.5698613373046432,\n",
                        "                'weightedRecall': 0.5802479928385599})},\n",
                        " 'tf': {'nb': (PipelineModel_71acbd9fec0d,\n",
                        "               {'accuracy': 0.5847483704926287,\n",
                        "                'f1': 0.5850284707120379,\n",
                        "                'precisionByLabel': 0.6107515898612675,\n",
                        "                'recallByLabel': 0.5803953115754622,\n",
                        "                'weightedPrecision': 0.5861074408720354,\n",
                        "                'weightedRecall': 0.5847483704926288})}}\n"
                    ]
                }
            ],
            "source": [
                "# Pretrained NB models\n",
                "if USE_PRETRAINED_ML_PIPELINE:\n",
                "  print(\"Loading pretrained NB pipeline\")\n",
                "  tmp = {ind: PipelineModel.load(PRETRAINED_MODELS_PATH+name) for ind, name in PRETRAINED_NB_PIPELINE_NAMES.items()}\n",
                "else:\n",
                "  tmp = nb_model_tuning(final_train_df, labels, featuresCol='idf_features')\n",
                "\n",
                "for ind in indicators:\n",
                "  best_models[ind]['nb'] = (tmp[ind], evaluate_model(tmp[ind], final_test_df, predictionCol=f'{ind}_pred', labelCol=f'idx_{ind}'))\n",
                "  \n",
                "pprint(best_models)"
            ]
        },
        {
            "cell_type": "markdown",
            "metadata": {
                "id": "4UkaH3ix6BUo"
            },
            "source": [
                "### Neural Network"
            ]
        },
        {
            "cell_type": "code",
            "execution_count": null,
            "metadata": {
                "colab": {
                    "base_uri": "https://localhost:8080/"
                },
                "executionInfo": {
                    "elapsed": 435587,
                    "status": "ok",
                    "timestamp": 1625681683327,
                    "user": {
                        "displayName": "Eduardo Rinaldi",
                        "photoUrl": "https://lh3.googleusercontent.com/a-/AOh14GjICFFYF_oZkC-VSi_Sb89jksqxq1BKOyZxbsKfPA=s64",
                        "userId": "00823218678353006274"
                    },
                    "user_tz": -120
                },
                "id": "Wy5RcZZDpsnU",
                "outputId": "6dc24466-1d92-4029-91df-d336f90b52ff"
            },
            "outputs": [
                {
                    "name": "stdout",
                    "output_type": "stream",
                    "text": [
                        "Loading pretrained NN pipeline\n",
                        "{'ie': {'nb': (PipelineModel_66a823fe4045,\n",
                        "               {'accuracy': 0.6194051249055865,\n",
                        "                'f1': 0.6200906814002721,\n",
                        "                'precisionByLabel': 0.7291658287415035,\n",
                        "                'recallByLabel': 0.7251518712032199,\n",
                        "                'weightedPrecision': 0.6207930169365878,\n",
                        "                'weightedRecall': 0.6194051249055864}),\n",
                        "        'nn': (PipelineModel_2e1953b05a63,\n",
                        "               {'accuracy': 0.6993768707863597,\n",
                        "                'f1': 0.5756557192220514,\n",
                        "                'precisionByLabel': 0.6993768707863597,\n",
                        "                'recallByLabel': 1.0,\n",
                        "                'weightedPrecision': 0.4891280073909204,\n",
                        "                'weightedRecall': 0.6993768707863597})},\n",
                        " 'ns': {'nb': (PipelineModel_ba283dfc6022,\n",
                        "               {'accuracy': 0.6867884018239293,\n",
                        "                'f1': 0.6989349792617146,\n",
                        "                'precisionByLabel': 0.8242853967136585,\n",
                        "                'recallByLabel': 0.7751433934489772,\n",
                        "                'weightedPrecision': 0.7136569617943156,\n",
                        "                'weightedRecall': 0.6867884018239293}),\n",
                        "        'nn': (PipelineModel_177b5db37e8e,\n",
                        "               {'accuracy': 0.8029100344084819,\n",
                        "                'f1': 0.7151377617855879,\n",
                        "                'precisionByLabel': 0.8029100344084819,\n",
                        "                'recallByLabel': 1.0,\n",
                        "                'weightedPrecision': 0.6446645233538294,\n",
                        "                'weightedRecall': 0.8029100344084819})},\n",
                        " 'pj': {'nb': (PipelineModel_8a8a63945d9b,\n",
                        "               {'accuracy': 0.5802479928385599,\n",
                        "                'f1': 0.572796428811591,\n",
                        "                'precisionByLabel': 0.6359372856856477,\n",
                        "                'recallByLabel': 0.7025907037738598,\n",
                        "                'weightedPrecision': 0.5698613373046432,\n",
                        "                'weightedRecall': 0.5802479928385599}),\n",
                        "        'nn': (PipelineModel_aac9def4aa1d,\n",
                        "               {'accuracy': 0.5999629339524996,\n",
                        "                'f1': 0.4499548264254701,\n",
                        "                'precisionByLabel': 0.5999629339524996,\n",
                        "                'recallByLabel': 1.0,\n",
                        "                'weightedPrecision': 0.3599555221168913,\n",
                        "                'weightedRecall': 0.5999629339524996})},\n",
                        " 'tf': {'nb': (PipelineModel_71acbd9fec0d,\n",
                        "               {'accuracy': 0.5847483704926287,\n",
                        "                'f1': 0.5850284707120379,\n",
                        "                'precisionByLabel': 0.6107515898612675,\n",
                        "                'recallByLabel': 0.5803953115754622,\n",
                        "                'weightedPrecision': 0.5861074408720354,\n",
                        "                'weightedRecall': 0.5847483704926288}),\n",
                        "        'nn': (PipelineModel_7e0e0eb8cdc9,\n",
                        "               {'accuracy': 0.5259637172350127,\n",
                        "                'f1': 0.36257458643765067,\n",
                        "                'precisionByLabel': 0.5259637172350127,\n",
                        "                'recallByLabel': 1.0,\n",
                        "                'weightedPrecision': 0.27663783184767243,\n",
                        "                'weightedRecall': 0.5259637172350127})}}\n"
                    ]
                }
            ],
            "source": [
                "# Pretrained NN models\n",
                "if USE_PRETRAINED_ML_PIPELINE:\n",
                "  print(\"Loading pretrained NN pipeline\")\n",
                "  tmp = {ind: PipelineModel.load(PRETRAINED_MODELS_PATH+name) for ind, name in PRETRAINED_NN_PIPELINE_NAMES.items()}\n",
                "else:\n",
                "  tmp = nn_model_tuning(final_train_df, labels, featuresCol='pca_features', inputLayerSize=100)\n",
                "\n",
                "for ind in indicators:\n",
                "  best_models[ind]['nn'] = (tmp[ind], evaluate_model(tmp[ind], final_test_df, predictionCol=f'{ind}_pred', labelCol=f'idx_{ind}'))\n",
                "\n",
                "pprint(best_models)"
            ]
        }
    ],
    "metadata": {
        "colab": {
            "collapsed_sections": [
                "-zJnEqAcBFby",
                "kYruCVmQBRX0",
                "rIWPHKkpCDmu"
            ],
            "machine_shape": "hm",
            "name": "MBTI.ipynb",
            "provenance": [
                {
                    "file_id": "15w-RoiNZDmyuWcIf-HQjbWJPeTZ-aGiF",
                    "timestamp": 1625574392090
                },
                {
                    "file_id": "1GqZu6zmCy2vMNMZqO78DDuHvwv_9vJcp",
                    "timestamp": 1625125180126
                },
                {
                    "file_id": "1IzPbxNFQmmSYk9s14L4YjBfUgACn9mW2",
                    "timestamp": 1593978024316
                },
                {
                    "file_id": "1G7NKeneJNyRtcRxLVbbF9jYtRyuTOa-R",
                    "timestamp": 1592749700622
                },
                {
                    "file_id": "https://github.com/satyajitghana/TSAI-DeepVision-EVA4.0/blob/master/Utils/Colab_25GBRAM_GPU.ipynb",
                    "timestamp": 1592043804148
                }
            ]
        },
        "kernelspec": {
            "display_name": "Python 3",
            "name": "python3"
        },
        "language_info": {
            "codemirror_mode": {
                "name": "ipython",
                "version": 3
            },
            "file_extension": ".py",
            "mimetype": "text/x-python",
            "name": "python",
            "nbconvert_exporter": "python",
            "pygments_lexer": "ipython3",
            "version": "3.11.2"
        }
    },
    "nbformat": 4,
    "nbformat_minor": 0
}
